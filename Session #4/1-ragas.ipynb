{
  "cells": [
    {
      "cell_type": "markdown",
      "metadata": {
        "id": "wa8ykQk92aLX"
      },
      "source": [
        "# Introduction\n",
        "\n",
        "Ragas is a framework that helps you evaluate your Retrieval Augmented Generation (RAG) pipelines. RAG denotes a class of LLM applications that use external data to augment the LLM’s context. \n",
        "\n",
        "Note: This is notebook is a remake from activities provided by AI-Makerspace when I enrolled in Cohort 2 of AI Engineering.\n",
        "\n",
        "# Why Evaluate\n",
        "\n",
        "Because you cannot improve what you cannot measure.\n",
        "\n",
        "Evaluating Retrieval-Augmented Generation (RAG) is crucial because it ensures the accuracy, reliability, and contextual relevance of the generated content by retrieving pertinent information from trusted sources. This evaluation helps identify and mitigate biases, ensuring fairness in the responses. Additionally, it optimizes the model's performance, enhancing efficiency and response times, which in turn builds user trust by consistently delivering high-quality and relevant information. Overall, thorough evaluation of RAG models is essential for refining their capabilities and improving the user experience.\n",
        "\n",
        "# Evaluation of RAG Using Ragas\n",
        "\n",
        "In the following notebook we'll explore how to evaluate RAG pipelines using a powerful open-source tool called \"Ragas\". This will give us tools to evaluate component-wise metrics, as well as end-to-end metrics about the performance of our RAG pipelines.\n",
        "\n",
        "In the following notebook we'll complete the following tasks:\n",
        "\n",
        "  1. Install required libraries\n",
        "  2. Set Environment Variables\n",
        "  3. Creating a simple RAG pipeline with Langchain\n",
        "  4. Synthetic Dataset Generation for Evaluation using the Ragas\n",
        "  5. Evaluating our pipeline with Ragas\n",
        "  6. Making Adjustments to our RAG Pipeline\n",
        "  7. Evaluating our Adjusted pipeline against our baseline\n",
        "  8. Testing OpenAI's Claim\n",
        "\n",
        "The only way to get started is to get started - so let's grab our dependencies for the day!"
      ]
    },
    {
      "cell_type": "markdown",
      "metadata": {
        "id": "0_C2JvG1qO3h"
      },
      "source": [
        "## Task 1: Set Environment Variables\n",
        "\n",
        "Let's set up our OpenAI API key so we can leverage their API later on."
      ]
    },
    {
      "cell_type": "code",
      "execution_count": 3,
      "metadata": {
        "colab": {
          "base_uri": "https://localhost:8080/"
        },
        "id": "8Lhqp5rUThG-",
        "outputId": "b29081cd-ea1d-4a1a-d64b-61c052a0d779"
      },
      "outputs": [],
      "source": [
        "import os\n",
        "import openai\n",
        "from getpass import getpass\n",
        "\n",
        "openai.api_key = getpass(\"Please provide your OpenAI Key: \")\n",
        "os.environ[\"OPENAI_API_KEY\"] = openai.api_key"
      ]
    },
    {
      "cell_type": "markdown",
      "metadata": {
        "id": "TFbWNvo3rZ4H"
      },
      "source": [
        "## Task 2: Creating a Simple RAG Pipeline with LangChain\n",
        "\n",
        "We'll be leveraging LangChain and LCEL to build a simple RAG pipeline that we can baseline with Ragas."
      ]
    },
    {
      "cell_type": "markdown",
      "metadata": {
        "id": "DV_BOewX8CW0"
      },
      "source": [
        "## Building our RAG pipeline\n",
        "\n",
        "Let's review the basic steps of RAG again:\n",
        "\n",
        "- Create an Index\n",
        "- Use retrieval to obtain pieces of context from our Index that are similar to our query\n",
        "- Use a LLM to generate responses based on the retrieved context\n",
        "\n",
        "Let's get started by creating our index.\n",
        "\n",
        "> NOTE: We're going to start leaning on the term \"index\" to refer to our `VectorStore`, `VectorDatabase`, etc. We can think of \"index\" as the catch-all term, whereas `VectorStore` and the like relate to the specific technologies used to create, store, and interact with the index."
      ]
    },
    {
      "cell_type": "markdown",
      "metadata": {
        "id": "1VDGJdxCJEVc"
      },
      "source": [
        "### Creating an Index\n",
        "\n",
        "You'll notice that the largest changes (outside of some import changes) are that our old favourite chains are back to being bundled in an easily usable abstraction.\n",
        "\n",
        "We can still create custom chains using LCEL - but we can also be more confident that our pre-packaged chains are creating using LCEL under the hood."
      ]
    },
    {
      "cell_type": "code",
      "execution_count": 3,
      "metadata": {
        "id": "DTDNFXaBSO2j"
      },
      "outputs": [],
      "source": [
        "from langchain_community.document_loaders import PyMuPDFLoader\n",
        "\n",
        "loader = PyMuPDFLoader(\n",
        "    \"data/lotr.pdf\",\n",
        ")\n",
        "\n",
        "all_documents = loader.load()"
      ]
    },
    {
      "cell_type": "code",
      "execution_count": 4,
      "metadata": {
        "colab": {
          "base_uri": "https://localhost:8080/"
        },
        "id": "i3dJYlBCIX_p",
        "outputId": "ac2c6245-853f-4717-8917-c92b1eaca4ba"
      },
      "outputs": [
        {
          "data": {
            "text/plain": [
              "{'producer': 'Acrobat Distiller 6.0 (Windows)',\n",
              " 'creator': 'Adobe Acrobat 9.0.0',\n",
              " 'creationdate': '2009-05-23T14:56:28+05:30',\n",
              " 'source': 'data/lotr.pdf',\n",
              " 'file_path': 'data/lotr.pdf',\n",
              " 'total_pages': 1210,\n",
              " 'format': 'PDF 1.5',\n",
              " 'title': 'The Lord of the Rings',\n",
              " 'author': 'J. R. R. Tolkien',\n",
              " 'subject': '',\n",
              " 'keywords': '',\n",
              " 'moddate': '2010-08-13T20:05:05+02:00',\n",
              " 'trapped': '',\n",
              " 'modDate': \"D:20100813200505+02'00'\",\n",
              " 'creationDate': \"D:20090523145628+05'30'\",\n",
              " 'page': 0}"
            ]
          },
          "execution_count": 4,
          "metadata": {},
          "output_type": "execute_result"
        }
      ],
      "source": [
        "all_documents[0].metadata\n"
      ]
    },
    {
      "cell_type": "code",
      "execution_count": 5,
      "metadata": {},
      "outputs": [
        {
          "name": "stdout",
          "output_type": "stream",
          "text": [
            "Total pages 1210\n",
            "# of pages - Book One 194\n",
            "First page TH E L ORD OF THE RI NGS \n",
            "The crucial chapter, ‘The Shadow of the Past’, is one of the oldest \n",
            "parts of the tale. It was written long before the foreshadow of 1939 \n",
            "had yet become a threat of inevitable disaster, and from that point \n",
            "the story would have developed along essentially the same lines, if \n",
            "that disaster had been averted. Its sources are things long before in \n",
            "mind, or in some cases already written, and little or nothing in it was \n",
            "modiﬁed by the war that began in 1939 or its sequels. \n",
            "The real war does not resemble the legendary war in its process \n",
            "or its conclusion. If it had inspired or directed the development \n",
            "of the legend, then certainly the Ring would have been seized and \n",
            "used against Sauron; he would not have been annihilated but en-\n",
            "slaved, and Barad-duˆr would not have been destroyed but occupied. \n",
            "Saruman, failing to get possession of the Ring, would in the confusion \n",
            "and treacheries of the time have found in Mordor the missing links \n",
            "in his own researches into Ring-lore, and before long he would have \n",
            "made a Great Ring of his own with which to challenge the self-styled \n",
            "Ruler of Middle-earth. In that conﬂict both sides would have held \n",
            "hobbits in hatred and contempt: they would not long have survived \n",
            "even as slaves. \n",
            "Other arrangements could be devised according to the tastes or \n",
            "views of those who like allegory or topical reference. But I cordially \n",
            "dislike allegory in all its manifestations, and always have done so \n",
            "since I grew old and wary enough to detect its presence. I much \n",
            "prefer history, true or feigned, with its varied applicability to the \n",
            "thought and experience of readers. I think that many confuse ‘applica-\n",
            "bility’ with ‘allegory’; but the one resides in the freedom of the reader, \n",
            "and the other in the purposed domination of the author. \n",
            "An author cannot of course remain wholly unaffected by his experi-\n",
            "ence, but the ways in which a story-germ uses the soil of experience \n",
            "are extremely complex, and attempts to deﬁne the process are at best \n",
            "guesses from evidence that is inadequate and ambiguous. It is also \n",
            "false, though naturally attractive, when the lives of an author and \n",
            "critic have overlapped, to suppose that the movements of thought or \n",
            "the events of times common to both were necessarily the most power-\n",
            "ful inﬂuences. One has indeed personally to come under the shadow \n",
            "of war to feel fully its oppression; but as the years go by it seems \n",
            "now often forgotten that to be caught in youth by 1914 was no less \n",
            "hideous an experience than to be involved in 1939 and the following \n",
            "years. By 1918 all but one of my close friends were dead. Or to take \n",
            "a less grievous matter: it has been supposed by some that ‘The Scour-\n",
            "ing of the Shire’ reﬂects the situation in England at the time when I \n",
            "was ﬁnishing my tale. It does not. It is an essential part of the plot, \n",
            "foreseen from the outset, though in the event modiﬁed by the charac-\n",
            "ter of Saruman as developed in the story without, need I say, any \n",
            "xx\n"
          ]
        }
      ],
      "source": [
        "#limit to BOOK One - Page 21 to 215\n",
        "print('Total pages', len(all_documents))\n",
        "documents = all_documents[21:215]\n",
        "print('# of pages - Book One', len(documents))\n",
        "print('First page', documents[0].page_content)"
      ]
    },
    {
      "cell_type": "markdown",
      "metadata": {
        "id": "oQUl3sbZK4_1"
      },
      "source": [
        "#### Transforming Data\n",
        "\n",
        "Now that we've got our single document - let's split it into smaller pieces so we can more effectively leverage it with our retrieval chain!\n",
        "\n",
        "We'll start with the classic: `RecursiveCharacterTextSplitter`."
      ]
    },
    {
      "cell_type": "code",
      "execution_count": 6,
      "metadata": {
        "id": "6Nt2E1xnLNgr"
      },
      "outputs": [],
      "source": [
        "from langchain.text_splitter import RecursiveCharacterTextSplitter\n",
        "\n",
        "text_splitter = RecursiveCharacterTextSplitter(\n",
        "    chunk_size = 500,\n",
        "    chunk_overlap = 50\n",
        ")\n",
        "\n",
        "chunks = text_splitter.split_documents(documents)"
      ]
    },
    {
      "cell_type": "markdown",
      "metadata": {
        "id": "ilzwQxhiLcVV"
      },
      "source": [
        "Let's confirm we've split our document."
      ]
    },
    {
      "cell_type": "code",
      "execution_count": 7,
      "metadata": {},
      "outputs": [
        {
          "data": {
            "text/plain": [
              "'52 \\nTH E L ORD OF THE RI NGS \\nwill command them all again, wherever they be, even the Three, and \\nall that has been wrought with them will be laid bare, and he will be \\nstronger than ever. \\n‘And this is the dreadful chance, Frodo. He believed that the One \\nhad perished; that the Elves had destroyed it, as should have been \\ndone. But he knows now that it has not perished, that it has been \\nfound. So he is seeking it, seeking it, and all his thought is bent on'"
            ]
          },
          "execution_count": 7,
          "metadata": {},
          "output_type": "execute_result"
        }
      ],
      "source": [
        "chunks[300].page_content"
      ]
    },
    {
      "cell_type": "code",
      "execution_count": 9,
      "metadata": {},
      "outputs": [
        {
          "name": "stdout",
          "output_type": "stream",
          "text": [
            "1121 chunks were generated from the documents.\n"
          ]
        }
      ],
      "source": [
        "print(f\"{len(chunks)} chunks were generated from the documents.\")"
      ]
    },
    {
      "cell_type": "markdown",
      "metadata": {},
      "source": [
        "<div style=\"background-color: #204B8E; color: white; padding: 10px; border-radius: 5px;\">\n",
        "\n",
        "#### ❓ Question #1:\n",
        "\n",
        "How many chunks were generated?\n",
        "\n",
        "</div>\n"
      ]
    },
    {
      "cell_type": "markdown",
      "metadata": {},
      "source": [
        "<div style=\"background-color: #204B8E; color: white; padding: 10px; border-radius: 5px;\">\n",
        "\n",
        "### Answer :\n",
        "\n",
        "* 1,121 chunks were generated from the documents.\n",
        "</span>\n"
      ]
    },
    {
      "cell_type": "markdown",
      "metadata": {
        "id": "eZ93HkYcMJwW"
      },
      "source": [
        "#### Loading OpenAI Embeddings Model\n",
        "\n",
        "We'll need a process by which we can convert our text into vectors that allow us to compare to our query vector.\n",
        "\n",
        "Let's use OpenAI's `text-embedding-ada-002` for this task!"
      ]
    },
    {
      "cell_type": "code",
      "execution_count": 17,
      "metadata": {
        "id": "JU6CrDVZMgKe"
      },
      "outputs": [],
      "source": [
        "from langchain_openai import OpenAIEmbeddings\n",
        "\n",
        "embeddings = OpenAIEmbeddings(\n",
        "    model=\"text-embedding-ada-002\"\n",
        ")"
      ]
    },
    {
      "cell_type": "markdown",
      "metadata": {
        "id": "rVtZR9JPLtR4"
      },
      "source": [
        "#### Creating a QDrant VectorStore\n",
        "\n",
        "Now that we have documents - we'll need a place to store them alongside their embeddings."
      ]
    },
    {
      "cell_type": "code",
      "execution_count": 18,
      "metadata": {
        "id": "978TWiCtMA0B"
      },
      "outputs": [],
      "source": [
        "from langchain_community.vectorstores import Qdrant\n",
        "\n",
        "qdrant_vector_store = Qdrant.from_documents(\n",
        "    chunks,\n",
        "    embeddings,\n",
        "    location=\":memory:\",\n",
        "    collection_name=\"LOTR\",\n",
        ")"
      ]
    },
    {
      "cell_type": "markdown",
      "metadata": {
        "id": "Z7ht6bJX9PAY"
      },
      "source": [
        "#### Creating a Retriever\n",
        "\n",
        "To complete our index, all that's left to do is expose our vectorstore as a retriever - which we can do the same way we would in previous version of LangChain!"
      ]
    },
    {
      "cell_type": "code",
      "execution_count": 19,
      "metadata": {
        "id": "xne8P5dQTUiR"
      },
      "outputs": [],
      "source": [
        "retriever = qdrant_vector_store.as_retriever()"
      ]
    },
    {
      "cell_type": "markdown",
      "metadata": {
        "id": "sO_DFBVKNvNm"
      },
      "source": [
        "#### Testing our Retriever\n",
        "\n",
        "Now that we've gone through the trouble of creating our retriever - let's see it in action!"
      ]
    },
    {
      "cell_type": "code",
      "execution_count": 20,
      "metadata": {
        "id": "I9_ONxpnN0n6"
      },
      "outputs": [
        {
          "name": "stdout",
          "output_type": "stream",
          "text": [
            "Master-ring, the One Ring to rule them all. This is the One Ring\n",
            "\n",
            "‘Well, so I have!’ cried Bilbo. ‘And my will and all the other \n",
            "documents too. You had better take it and deliver it for me. That \n",
            "will be safest.’ \n",
            "‘No, don’t give the ring to me,’ said Gandalf. ‘Put it on the mantel-\n",
            "piece. It will be safe enough there, till Frodo comes. I shall wait for him.’ \n",
            "Bilbo took out the envelope, but just as he was about to set it by \n",
            "the clock, his hand jerked back, and the packet fell on the ﬂoor.\n",
            "\n",
            "Bilbo’s ring. I longed to disappear.’ \n",
            "‘Don’t do that!’ said Gandalf, sitting down. ‘Do be careful of that \n",
            "ring, Frodo! In fact, it is partly about that that I have come to say a \n",
            "last word.’ \n",
            "‘Well, what about it?’ \n",
            "‘What do you know already?’ \n",
            "‘Only what Bilbo told me. I have heard his story: how he found \n",
            "it, and how he used it: on his journey, I mean.’ \n",
            "‘Which story, I wonder,’ said Gandalf. \n",
            "‘Oh, not what he told the dwarves and put in his book,’ said Frodo.\n",
            "\n",
            "It was suggested to Bilbo, as he confessed, by Gollum’s talk that he \n",
            "overheard; for Gollum did, in fact, call the ring his ‘birthday-present’, \n",
            "many times. That also Gandalf thought strange and suspicious; but \n",
            "he did not discover the truth in this point for many more years, as \n",
            "will be seen in this book. \n",
            "Of Bilbo’s later adventures little more need be said here. With the \n",
            "help of the ring he escaped from the orc-guards at the gate and\n",
            "\n"
          ]
        }
      ],
      "source": [
        "retrieved_documents = retriever.invoke(\"Who is the bearer of the ring?\")\n",
        "for doc in retrieved_documents:\n",
        "  print(doc.page_content)\n",
        "  print('')"
      ]
    },
    {
      "cell_type": "markdown",
      "metadata": {
        "id": "D8MKsT6JTgCU"
      },
      "source": [
        "### Creating a RAG Chain\n",
        "\n",
        "Now that we have the \"R\" in RAG taken care of - let's look at creating the \"AG\"!"
      ]
    },
    {
      "cell_type": "markdown",
      "metadata": {
        "id": "zs7qBLaEQEic"
      },
      "source": [
        "#### Creating a Prompt Template\n",
        "\n",
        "There are a few different ways we could create our prompt template - we could create a custom template, as seen in the code below, or we could simply pull a prompt from the prompt hub! Let's look at an example of that!"
      ]
    },
    {
      "cell_type": "code",
      "execution_count": 10,
      "metadata": {},
      "outputs": [],
      "source": [
        "!pip install -U -q langchainhub ipywidgets nest_asyncio\n"
      ]
    },
    {
      "cell_type": "code",
      "execution_count": 11,
      "metadata": {
        "id": "eRCq_OKUQbKk"
      },
      "outputs": [
        {
          "name": "stderr",
          "output_type": "stream",
          "text": [
            "c:\\Users\\admin\\Desktop\\AI LLM Engineering for Software Developers Bootcamp\\Session #4\\.venv\\Lib\\site-packages\\langsmith\\client.py:272: LangSmithMissingAPIKeyWarning: API key must be provided when using hosted LangSmith API\n",
            "  warnings.warn(\n"
          ]
        }
      ],
      "source": [
        "from langchain import hub\n",
        "\n",
        "retrieval_qa_prompt = hub.pull(\"langchain-ai/retrieval-qa-chat\")"
      ]
    },
    {
      "cell_type": "code",
      "execution_count": 12,
      "metadata": {
        "colab": {
          "base_uri": "https://localhost:8080/"
        },
        "id": "FziTftV5Q1H-",
        "outputId": "29059829-820d-4127-a8ef-9224f2758a26"
      },
      "outputs": [
        {
          "name": "stdout",
          "output_type": "stream",
          "text": [
            "Answer any use questions based solely on the context below:\n",
            "\n",
            "<context>\n",
            "{context}\n",
            "</context>\n"
          ]
        }
      ],
      "source": [
        "print(retrieval_qa_prompt.messages[0].prompt.template)"
      ]
    },
    {
      "cell_type": "markdown",
      "metadata": {
        "id": "iyq88IPFRGoT"
      },
      "source": [
        "As you can see - the prompt template is simple (and has a small error) - so we'll create our own to be a bit more specific!"
      ]
    },
    {
      "cell_type": "code",
      "execution_count": 13,
      "metadata": {
        "id": "ijSNkTAjTsep"
      },
      "outputs": [],
      "source": [
        "from langchain.prompts import ChatPromptTemplate\n",
        "\n",
        "template = \"\"\"Answer the question based only on the following context. If you cannot answer the question with the context, please respond with 'I don't know':\n",
        "\n",
        "Context:\n",
        "{context}\n",
        "\n",
        "Question:\n",
        "{question}\n",
        "\"\"\"\n",
        "\n",
        "prompt = ChatPromptTemplate.from_template(template)"
      ]
    },
    {
      "cell_type": "markdown",
      "metadata": {
        "id": "BYHnPaXl-cvJ"
      },
      "source": [
        "#### Setting Up our Basic QA Chain\n",
        "\n",
        "Now we can instantiate our basic RAG chain!\n",
        "\n",
        "We'll use LCEL directly just to see an example of it - but you could just as easily use an abstraction here to achieve the same goal!\n",
        "\n",
        "We'll also ensure to pass-through our context - which is critical for RAGAS."
      ]
    },
    {
      "cell_type": "code",
      "execution_count": 21,
      "metadata": {
        "id": "-TsjUWjbUfbW"
      },
      "outputs": [],
      "source": [
        "from operator import itemgetter\n",
        "\n",
        "from langchain_openai import ChatOpenAI\n",
        "from langchain_core.output_parsers import StrOutputParser\n",
        "from langchain_core.runnables import RunnablePassthrough\n",
        "\n",
        "primary_qa_llm = ChatOpenAI(model_name=\"gpt-3.5-turbo\", temperature=0)\n",
        "\n",
        "retrieval_augmented_qa_chain = (\n",
        "    # INVOKE CHAIN WITH: {\"question\" : \"<<SOME USER QUESTION>>\"}\n",
        "    # \"question\" : populated by getting the value of the \"question\" key\n",
        "    # \"context\"  : populated by getting the value of the \"question\" key and chaining it into the base_retriever\n",
        "    {\"context\": itemgetter(\"question\") | retriever, \"question\": itemgetter(\"question\")}\n",
        "    # \"context\"  : is assigned to a RunnablePassthrough object (will not be called or considered in the next step)\n",
        "    #              by getting the value of the \"context\" key from the previous step\n",
        "    | RunnablePassthrough.assign(context=itemgetter(\"context\"))\n",
        "    # \"response\" : the \"context\" and \"question\" values are used to format our prompt object and then piped\n",
        "    #              into the LLM and stored in a key called \"response\"\n",
        "    # \"context\"  : populated by getting the value of the \"context\" key from the previous step\n",
        "    | {\"response\": prompt | primary_qa_llm, \"context\": itemgetter(\"context\")}\n",
        ")"
      ]
    },
    {
      "cell_type": "markdown",
      "metadata": {
        "id": "zO69de-F-oMD"
      },
      "source": [
        "Let's test it out!"
      ]
    },
    {
      "cell_type": "code",
      "execution_count": 28,
      "metadata": {
        "colab": {
          "base_uri": "https://localhost:8080/"
        },
        "id": "2FS5NxC6UyU2",
        "outputId": "bd91337c-dfeb-47b3-f66f-4b60a7bb1673"
      },
      "outputs": [
        {
          "name": "stdout",
          "output_type": "stream",
          "text": [
            "Bilbo is the bearer of the ring.\n"
          ]
        }
      ],
      "source": [
        "question = \"Who is the bearer of the ring?\"\n",
        "\n",
        "result = retrieval_augmented_qa_chain.invoke({\"question\" : question})\n",
        "\n",
        "print(result[\"response\"].content)"
      ]
    },
    {
      "cell_type": "code",
      "execution_count": 29,
      "metadata": {
        "colab": {
          "base_uri": "https://localhost:8080/"
        },
        "id": "tIuHVGPOO9P2",
        "outputId": "e5fb4abe-be4a-4a5e-cc68-486de3cb72c8"
      },
      "outputs": [
        {
          "name": "stdout",
          "output_type": "stream",
          "text": [
            "The eventual bearer of the ring is Frodo.\n"
          ]
        }
      ],
      "source": [
        "question = \"Who is the eventual bearer of the ring?\"\n",
        "\n",
        "result = retrieval_augmented_qa_chain.invoke({\"question\" : question})\n",
        "\n",
        "print(result[\"response\"].content)"
      ]
    },
    {
      "cell_type": "markdown",
      "metadata": {
        "id": "a-XYZueEP42k"
      },
      "source": [
        "We can already see that there are some improvements we could make here.\n",
        "\n",
        "For now, let's switch gears to RAGAS to see how we can leverage that tool to provide us insight into how our pipeline is performing!"
      ]
    },
    {
      "cell_type": "markdown",
      "metadata": {
        "id": "EOECHyzHRqDw"
      },
      "source": [
        "## Task 4: Evaluation using Ragas\n",
        "\n",
        "Ragas is a powerful library that lets us evaluate our RAG pipeline by collecting input/output/context triplets and obtaining metrics relating to a number of different aspects of our RAG pipeline.\n",
        "\n",
        "We'll be evaluating on every core metric today, but in order to do that - we'll need to create a test set. Luckily for us, Ragas can do that directly!"
      ]
    },
    {
      "cell_type": "code",
      "execution_count": 22,
      "metadata": {},
      "outputs": [],
      "source": [
        "# load the CSV - lotr_testset.csv\n",
        "import pandas as pd\n",
        "import nest_asyncio\n",
        "\n",
        "nest_asyncio.apply()\n",
        "test_df = pd.read_csv('data/lotr_testset.csv')"
      ]
    },
    {
      "cell_type": "markdown",
      "metadata": {
        "id": "MemL406rUzBu"
      },
      "source": [
        "Let's look at the output and see what we can learn about it!"
      ]
    },
    {
      "cell_type": "code",
      "execution_count": 23,
      "metadata": {
        "colab": {
          "base_uri": "https://localhost:8080/"
        },
        "id": "RaCDdImVU15s",
        "outputId": "82abe7e2-4dc1-4ed1-b3c2-ab689909d406"
      },
      "outputs": [
        {
          "data": {
            "text/html": [
              "<div>\n",
              "<style scoped>\n",
              "    .dataframe tbody tr th:only-of-type {\n",
              "        vertical-align: middle;\n",
              "    }\n",
              "\n",
              "    .dataframe tbody tr th {\n",
              "        vertical-align: top;\n",
              "    }\n",
              "\n",
              "    .dataframe thead th {\n",
              "        text-align: right;\n",
              "    }\n",
              "</style>\n",
              "<table border=\"1\" class=\"dataframe\">\n",
              "  <thead>\n",
              "    <tr style=\"text-align: right;\">\n",
              "      <th></th>\n",
              "      <th>question</th>\n",
              "      <th>contexts</th>\n",
              "      <th>ground_truth</th>\n",
              "      <th>evolution_type</th>\n",
              "      <th>metadata</th>\n",
              "      <th>episode_done</th>\n",
              "    </tr>\n",
              "  </thead>\n",
              "  <tbody>\n",
              "    <tr>\n",
              "      <th>0</th>\n",
              "      <td>How did the speaker's bad cold affect their ex...</td>\n",
              "      <td>['been asked to ﬁll up the required number, li...</td>\n",
              "      <td>The speaker's bad cold affected their experien...</td>\n",
              "      <td>simple</td>\n",
              "      <td>[{'source': 'lotr.pdf', 'file_path': 'lotr.pdf...</td>\n",
              "      <td>True</td>\n",
              "    </tr>\n",
              "    <tr>\n",
              "      <th>1</th>\n",
              "      <td>What happened to Pippin after he fell asleep i...</td>\n",
              "      <td>['After a while Pippin fell fast asleep, and w...</td>\n",
              "      <td>Pippin was lifted up and borne away to a bower...</td>\n",
              "      <td>simple</td>\n",
              "      <td>[{'source': 'lotr.pdf', 'file_path': 'lotr.pdf...</td>\n",
              "      <td>True</td>\n",
              "    </tr>\n",
              "    <tr>\n",
              "      <th>2</th>\n",
              "      <td>What was Frodo often seen doing far from home ...</td>\n",
              "      <td>['over the Shire with them; but more often he ...</td>\n",
              "      <td>Frodo was often seen walking in the hills and ...</td>\n",
              "      <td>simple</td>\n",
              "      <td>[{'source': 'lotr.pdf', 'file_path': 'lotr.pdf...</td>\n",
              "      <td>True</td>\n",
              "    </tr>\n",
              "    <tr>\n",
              "      <th>3</th>\n",
              "      <td>What is Bilbo's attitude towards going on the ...</td>\n",
              "      <td>['‘Well, that’s that,’ he said. ‘Now I’m off !...</td>\n",
              "      <td>Bilbo's attitude towards going on the Road wit...</td>\n",
              "      <td>simple</td>\n",
              "      <td>[{'source': 'lotr.pdf', 'file_path': 'lotr.pdf...</td>\n",
              "      <td>True</td>\n",
              "    </tr>\n",
              "    <tr>\n",
              "      <th>4</th>\n",
              "      <td>What is the significance of the Shire in the c...</td>\n",
              "      <td>['over the Shire with them; but more often he ...</td>\n",
              "      <td>The answer to given question is not present in...</td>\n",
              "      <td>simple</td>\n",
              "      <td>[{'source': 'lotr.pdf', 'file_path': 'lotr.pdf...</td>\n",
              "      <td>True</td>\n",
              "    </tr>\n",
              "    <tr>\n",
              "      <th>5</th>\n",
              "      <td>Who did Frodo find sitting in the rushes by th...</td>\n",
              "      <td>['By that pool long ago I found the River-daug...</td>\n",
              "      <td>The River-daughter, fair young Goldberry</td>\n",
              "      <td>simple</td>\n",
              "      <td>[{'source': 'lotr.pdf', 'file_path': 'lotr.pdf...</td>\n",
              "      <td>True</td>\n",
              "    </tr>\n",
              "    <tr>\n",
              "      <th>6</th>\n",
              "      <td>What led to the increased interest in Hobbit h...</td>\n",
              "      <td>['14 \\nTH \\nE L \\nORD OF THE RI \\nNGS \\nof his...</td>\n",
              "      <td>The part played by the Hobbits in the great ev...</td>\n",
              "      <td>simple</td>\n",
              "      <td>[{'source': 'lotr.pdf', 'file_path': 'lotr.pdf...</td>\n",
              "      <td>True</td>\n",
              "    </tr>\n",
              "    <tr>\n",
              "      <th>7</th>\n",
              "      <td>Who did Bilbo address as \"My dear Bagginses an...</td>\n",
              "      <td>['silk waistcoat. They could all see him stand...</td>\n",
              "      <td>Bilbo addressed the Bagginses and Boffins as \"...</td>\n",
              "      <td>simple</td>\n",
              "      <td>[{'source': 'lotr.pdf', 'file_path': 'lotr.pdf...</td>\n",
              "      <td>True</td>\n",
              "    </tr>\n",
              "    <tr>\n",
              "      <th>8</th>\n",
              "      <td>Who can Frodo trust to stick by his side and k...</td>\n",
              "      <td>['has some sense, mind you; and when you said ...</td>\n",
              "      <td>Frodo can trust Sam, Merry, and the rest of hi...</td>\n",
              "      <td>simple</td>\n",
              "      <td>[{'source': 'lotr.pdf', 'file_path': 'lotr.pdf...</td>\n",
              "      <td>True</td>\n",
              "    </tr>\n",
              "    <tr>\n",
              "      <th>9</th>\n",
              "      <td>How did courage play a role in Gandalf's decis...</td>\n",
              "      <td>['but free and alive himself. Gandalf would ad...</td>\n",
              "      <td>The courage that had been awakened in Gandalf ...</td>\n",
              "      <td>simple</td>\n",
              "      <td>[{'source': 'lotr.pdf', 'file_path': 'lotr.pdf...</td>\n",
              "      <td>True</td>\n",
              "    </tr>\n",
              "    <tr>\n",
              "      <th>10</th>\n",
              "      <td>How does Sam describe the age of the elves and...</td>\n",
              "      <td>['Wonderful folk, Elves, sir! Wonderful!’ \\n‘T...</td>\n",
              "      <td>Sam describes the age of the elves as both old...</td>\n",
              "      <td>reasoning</td>\n",
              "      <td>[{'source': 'lotr.pdf', 'file_path': 'lotr.pdf...</td>\n",
              "      <td>True</td>\n",
              "    </tr>\n",
              "    <tr>\n",
              "      <th>11</th>\n",
              "      <td>What did Bilbo reveal to Gollum, causing Gollu...</td>\n",
              "      <td>['more, except in dark hints. Some other fear ...</td>\n",
              "      <td>Bilbo revealed his name to Gollum, causing Gol...</td>\n",
              "      <td>reasoning</td>\n",
              "      <td>[{'source': 'lotr.pdf', 'file_path': 'lotr.pdf...</td>\n",
              "      <td>True</td>\n",
              "    </tr>\n",
              "    <tr>\n",
              "      <th>12</th>\n",
              "      <td>What did Frodo see in the fading light as he l...</td>\n",
              "      <td>['towards the lane. It showed grey and pale, a...</td>\n",
              "      <td>Frodo saw something dark pass across the light...</td>\n",
              "      <td>reasoning</td>\n",
              "      <td>[{'source': 'lotr.pdf', 'file_path': 'lotr.pdf...</td>\n",
              "      <td>True</td>\n",
              "    </tr>\n",
              "    <tr>\n",
              "      <th>13</th>\n",
              "      <td>What evidence supports the significance of the...</td>\n",
              "      <td>['3 \\nPR \\nOL \\nOGU \\nE \\namong them, but ther...</td>\n",
              "      <td>It is clear, nonetheless, from these legends, ...</td>\n",
              "      <td>reasoning</td>\n",
              "      <td>[{'source': 'lotr.pdf', 'file_path': 'lotr.pdf...</td>\n",
              "      <td>True</td>\n",
              "    </tr>\n",
              "    <tr>\n",
              "      <th>14</th>\n",
              "      <td>Why does Sam regret leaving Master Bombadil an...</td>\n",
              "      <td>['Tom has his house to mind, and Goldberry is ...</td>\n",
              "      <td>Sam regrets leaving Master Bombadil because he...</td>\n",
              "      <td>reasoning</td>\n",
              "      <td>[{'source': 'lotr.pdf', 'file_path': 'lotr.pdf...</td>\n",
              "      <td>True</td>\n",
              "    </tr>\n",
              "    <tr>\n",
              "      <th>15</th>\n",
              "      <td>How did Frodo help restore camaraderie between...</td>\n",
              "      <td>['158 \\nTH \\nE L \\nORD OF THE RI \\nNGS \\nhelp ...</td>\n",
              "      <td>Frodo helped restore camaraderie between the S...</td>\n",
              "      <td>multi_context</td>\n",
              "      <td>[{'source': 'lotr.pdf', 'file_path': 'lotr.pdf...</td>\n",
              "      <td>True</td>\n",
              "    </tr>\n",
              "    <tr>\n",
              "      <th>16</th>\n",
              "      <td>What happened to the Hobbits' languages before...</td>\n",
              "      <td>['their earlier settlements had long disappear...</td>\n",
              "      <td>The answer to given question is not present in...</td>\n",
              "      <td>multi_context</td>\n",
              "      <td>[{'source': 'lotr.pdf', 'file_path': 'lotr.pdf...</td>\n",
              "      <td>True</td>\n",
              "    </tr>\n",
              "    <tr>\n",
              "      <th>17</th>\n",
              "      <td>Where do most hobbits live in the Bree-land, c...</td>\n",
              "      <td>['they appeared they brought news from afar, a...</td>\n",
              "      <td>They live mostly in Staddle, though there are ...</td>\n",
              "      <td>multi_context</td>\n",
              "      <td>[{'source': 'lotr.pdf', 'file_path': 'lotr.pdf...</td>\n",
              "      <td>True</td>\n",
              "    </tr>\n",
              "  </tbody>\n",
              "</table>\n",
              "</div>"
            ],
            "text/plain": [
              "                                             question  \\\n",
              "0   How did the speaker's bad cold affect their ex...   \n",
              "1   What happened to Pippin after he fell asleep i...   \n",
              "2   What was Frodo often seen doing far from home ...   \n",
              "3   What is Bilbo's attitude towards going on the ...   \n",
              "4   What is the significance of the Shire in the c...   \n",
              "5   Who did Frodo find sitting in the rushes by th...   \n",
              "6   What led to the increased interest in Hobbit h...   \n",
              "7   Who did Bilbo address as \"My dear Bagginses an...   \n",
              "8   Who can Frodo trust to stick by his side and k...   \n",
              "9   How did courage play a role in Gandalf's decis...   \n",
              "10  How does Sam describe the age of the elves and...   \n",
              "11  What did Bilbo reveal to Gollum, causing Gollu...   \n",
              "12  What did Frodo see in the fading light as he l...   \n",
              "13  What evidence supports the significance of the...   \n",
              "14  Why does Sam regret leaving Master Bombadil an...   \n",
              "15  How did Frodo help restore camaraderie between...   \n",
              "16  What happened to the Hobbits' languages before...   \n",
              "17  Where do most hobbits live in the Bree-land, c...   \n",
              "\n",
              "                                             contexts  \\\n",
              "0   ['been asked to ﬁll up the required number, li...   \n",
              "1   ['After a while Pippin fell fast asleep, and w...   \n",
              "2   ['over the Shire with them; but more often he ...   \n",
              "3   ['‘Well, that’s that,’ he said. ‘Now I’m off !...   \n",
              "4   ['over the Shire with them; but more often he ...   \n",
              "5   ['By that pool long ago I found the River-daug...   \n",
              "6   ['14 \\nTH \\nE L \\nORD OF THE RI \\nNGS \\nof his...   \n",
              "7   ['silk waistcoat. They could all see him stand...   \n",
              "8   ['has some sense, mind you; and when you said ...   \n",
              "9   ['but free and alive himself. Gandalf would ad...   \n",
              "10  ['Wonderful folk, Elves, sir! Wonderful!’ \\n‘T...   \n",
              "11  ['more, except in dark hints. Some other fear ...   \n",
              "12  ['towards the lane. It showed grey and pale, a...   \n",
              "13  ['3 \\nPR \\nOL \\nOGU \\nE \\namong them, but ther...   \n",
              "14  ['Tom has his house to mind, and Goldberry is ...   \n",
              "15  ['158 \\nTH \\nE L \\nORD OF THE RI \\nNGS \\nhelp ...   \n",
              "16  ['their earlier settlements had long disappear...   \n",
              "17  ['they appeared they brought news from afar, a...   \n",
              "\n",
              "                                         ground_truth evolution_type  \\\n",
              "0   The speaker's bad cold affected their experien...         simple   \n",
              "1   Pippin was lifted up and borne away to a bower...         simple   \n",
              "2   Frodo was often seen walking in the hills and ...         simple   \n",
              "3   Bilbo's attitude towards going on the Road wit...         simple   \n",
              "4   The answer to given question is not present in...         simple   \n",
              "5            The River-daughter, fair young Goldberry         simple   \n",
              "6   The part played by the Hobbits in the great ev...         simple   \n",
              "7   Bilbo addressed the Bagginses and Boffins as \"...         simple   \n",
              "8   Frodo can trust Sam, Merry, and the rest of hi...         simple   \n",
              "9   The courage that had been awakened in Gandalf ...         simple   \n",
              "10  Sam describes the age of the elves as both old...      reasoning   \n",
              "11  Bilbo revealed his name to Gollum, causing Gol...      reasoning   \n",
              "12  Frodo saw something dark pass across the light...      reasoning   \n",
              "13  It is clear, nonetheless, from these legends, ...      reasoning   \n",
              "14  Sam regrets leaving Master Bombadil because he...      reasoning   \n",
              "15  Frodo helped restore camaraderie between the S...  multi_context   \n",
              "16  The answer to given question is not present in...  multi_context   \n",
              "17  They live mostly in Staddle, though there are ...  multi_context   \n",
              "\n",
              "                                             metadata  episode_done  \n",
              "0   [{'source': 'lotr.pdf', 'file_path': 'lotr.pdf...          True  \n",
              "1   [{'source': 'lotr.pdf', 'file_path': 'lotr.pdf...          True  \n",
              "2   [{'source': 'lotr.pdf', 'file_path': 'lotr.pdf...          True  \n",
              "3   [{'source': 'lotr.pdf', 'file_path': 'lotr.pdf...          True  \n",
              "4   [{'source': 'lotr.pdf', 'file_path': 'lotr.pdf...          True  \n",
              "5   [{'source': 'lotr.pdf', 'file_path': 'lotr.pdf...          True  \n",
              "6   [{'source': 'lotr.pdf', 'file_path': 'lotr.pdf...          True  \n",
              "7   [{'source': 'lotr.pdf', 'file_path': 'lotr.pdf...          True  \n",
              "8   [{'source': 'lotr.pdf', 'file_path': 'lotr.pdf...          True  \n",
              "9   [{'source': 'lotr.pdf', 'file_path': 'lotr.pdf...          True  \n",
              "10  [{'source': 'lotr.pdf', 'file_path': 'lotr.pdf...          True  \n",
              "11  [{'source': 'lotr.pdf', 'file_path': 'lotr.pdf...          True  \n",
              "12  [{'source': 'lotr.pdf', 'file_path': 'lotr.pdf...          True  \n",
              "13  [{'source': 'lotr.pdf', 'file_path': 'lotr.pdf...          True  \n",
              "14  [{'source': 'lotr.pdf', 'file_path': 'lotr.pdf...          True  \n",
              "15  [{'source': 'lotr.pdf', 'file_path': 'lotr.pdf...          True  \n",
              "16  [{'source': 'lotr.pdf', 'file_path': 'lotr.pdf...          True  \n",
              "17  [{'source': 'lotr.pdf', 'file_path': 'lotr.pdf...          True  "
            ]
          },
          "execution_count": 23,
          "metadata": {},
          "output_type": "execute_result"
        }
      ],
      "source": [
        "test_df"
      ]
    },
    {
      "cell_type": "markdown",
      "metadata": {
        "id": "vrPsVwUAWFWB"
      },
      "source": [
        "### Generating Responses with RAG Pipeline\n",
        "\n",
        "Now that we have some QC pairs, and some ground truths, let's evaluate our RAG pipeline using Ragas.\n",
        "\n",
        "The process is, again, quite straightforward - thanks to Ragas and LangChain!\n",
        "\n",
        "Let's start by extracting our questions and ground truths from our create testset.\n",
        "\n",
        "We can start by converting our test dataset into a Pandas DataFrame."
      ]
    },
    {
      "cell_type": "code",
      "execution_count": 24,
      "metadata": {
        "id": "xAiXbVmLYSoC"
      },
      "outputs": [],
      "source": [
        "test_questions = test_df[\"question\"].values.tolist()\n",
        "test_groundtruths = test_df[\"ground_truth\"].values.tolist()"
      ]
    },
    {
      "cell_type": "markdown",
      "metadata": {
        "id": "aE5rfMLfbqKH"
      },
      "source": [
        "Now we'll generate responses using our RAG pipeline using the questions we've generated - we'll also need to collect our retrieved contexts for each question.\n",
        "\n",
        "We'll do this in a simple loop to see exactly what's happening!"
      ]
    },
    {
      "cell_type": "code",
      "execution_count": 25,
      "metadata": {
        "id": "9_AayvT1dAQN"
      },
      "outputs": [],
      "source": [
        "answers = []\n",
        "contexts = []\n",
        "\n",
        "for question in test_questions:\n",
        "  response = retrieval_augmented_qa_chain.invoke({\"question\" : question})\n",
        "  answers.append(response[\"response\"].content)\n",
        "  contexts.append([context.page_content for context in response[\"context\"]])"
      ]
    },
    {
      "cell_type": "markdown",
      "metadata": {
        "id": "opHaHmYDeBfC"
      },
      "source": [
        "Now we can wrap our information in a Hugging Face dataset for use in the Ragas library."
      ]
    },
    {
      "cell_type": "code",
      "execution_count": 26,
      "metadata": {
        "id": "fY48YZITeHy-"
      },
      "outputs": [],
      "source": [
        "from datasets import Dataset\n",
        "\n",
        "response_dataset = Dataset.from_dict({\n",
        "    \"question\" : test_questions,\n",
        "    \"answer\" : answers,\n",
        "    \"contexts\" : contexts,\n",
        "    \"ground_truth\" : test_groundtruths\n",
        "})"
      ]
    },
    {
      "cell_type": "markdown",
      "metadata": {
        "id": "mmeVvQaZeogE"
      },
      "source": [
        "Let's take a peek and see what that looks like!"
      ]
    },
    {
      "cell_type": "code",
      "execution_count": 27,
      "metadata": {
        "colab": {
          "base_uri": "https://localhost:8080/"
        },
        "id": "pOpydvc8eqNM",
        "outputId": "857ea0c8-4d59-47b4-e995-bfe78d6c9352"
      },
      "outputs": [
        {
          "data": {
            "text/plain": [
              "{'question': \"How did the speaker's bad cold affect their experience at the banquet?\",\n",
              " 'answer': \"The speaker's bad cold affected their experience at the banquet by making them only able to say 'thag you very buch' instead of properly thanking the guests.\",\n",
              " 'contexts': ['ﬁfty-one then, and birthdays did not seem so important. The banquet was \\nvery splendid, however, though I had a bad cold at the time, I remember, \\nand could only say ‘thag you very buch’. I now repeat it more correctly: \\nThank you very much for coming to my little party. Obstinate silence. \\nThey all feared that a song or some poetry was now imminent; and \\nthey were getting bored. Why couldn’t he stop talking and let them \\ndrink his health? But Bilbo did not sing or recite. He paused for a',\n",
              "  'they had felt it was impossible to refuse. Besides, their cousin, Bilbo, \\nhad been specializing in food for many years and his table had a high \\nreputation. \\nAll the one hundred and forty-four guests expected a pleasant \\nfeast; though they rather dreaded the after-dinner speech of their \\nhost (an inevitable item). He was liable to drag in bits of what he \\ncalled poetry; and sometimes, after a glass or two, would allude to \\nthe absurd adventures of his mysterious journey. The guests were',\n",
              "  'Merry left them a long while in the hall, and they had time to \\ndiscover their parting gift of spoons. It did not improve their tempers. \\nEventually they were shown into the study. Frodo was sitting at a \\ntable with a lot of papers in front of him. He looked indisposed – to \\nsee Sackville-Bagginses at any rate; and he stood up, ﬁdgeting with \\nsomething in his pocket. But he spoke quite politely. \\nThe Sackville-Bagginses were rather offensive. They began by',\n",
              "  'laughter at the indignant surprise of the guests. But at the same \\ntime he felt deeply troubled: he realized suddenly that he loved the \\nold hobbit dearly. Most of the guests went on eating and drinking \\nand discussing Bilbo Baggins’ oddities, past and present; but the \\nSackville-Bagginses had already departed in wrath. Frodo did not \\nwant to have any more to do with the party. He gave orders for more \\nwine to be served; then he got up and drained his own glass silently'],\n",
              " 'ground_truth': \"The speaker's bad cold affected their experience at the banquet as they could only say 'thag you very buch' instead of expressing their gratitude more correctly.\"}"
            ]
          },
          "execution_count": 27,
          "metadata": {},
          "output_type": "execute_result"
        }
      ],
      "source": [
        "response_dataset[0]"
      ]
    },
    {
      "cell_type": "markdown",
      "metadata": {
        "id": "xbsFm5FievJI"
      },
      "source": [
        "## Task 2: Evaluating our Pipeline with Ragas\n",
        "\n",
        "Now that we have our response dataset - we can finally get into the \"meat\" of Ragas - evaluation!\n",
        "\n",
        "First, we'll import the desired metrics, then we can use them to evaluate our created dataset!\n",
        "\n",
        "Check out the specific metrics we'll be using in the Ragas documentation:\n",
        "\n",
        "- [Faithfulness](https://docs.ragas.io/en/stable/concepts/metrics/faithfulness.html)\n",
        "- [Answer Relevancy](https://docs.ragas.io/en/stable/concepts/metrics/answer_relevance.html)\n",
        "- [Context Precision](https://docs.ragas.io/en/stable/concepts/metrics/context_precision.html)\n",
        "- [Context Recall](https://docs.ragas.io/en/stable/concepts/metrics/context_recall.html)\n",
        "- [Answer Correctness](https://docs.ragas.io/en/stable/concepts/metrics/answer_correctness.html)\n",
        "\n",
        "See the accompanied presentation for more in-depth explanations about each of the metrics!"
      ]
    },
    {
      "cell_type": "code",
      "execution_count": 30,
      "metadata": {
        "id": "R2PXwyt8e5aW"
      },
      "outputs": [],
      "source": [
        "from ragas import evaluate\n",
        "from ragas.metrics import (\n",
        "    faithfulness,\n",
        "    answer_relevancy,\n",
        "    answer_correctness,\n",
        "    context_recall,\n",
        "    context_precision,\n",
        ")\n",
        "\n",
        "metrics = [\n",
        "    faithfulness,\n",
        "    answer_relevancy,\n",
        "    context_recall,\n",
        "    context_precision,\n",
        "    answer_correctness,\n",
        "]"
      ]
    },
    {
      "cell_type": "markdown",
      "metadata": {
        "id": "Kx-vlsx_hrtV"
      },
      "source": [
        "All that's left to do is call \"evaluate\" and away we go!"
      ]
    },
    {
      "cell_type": "code",
      "execution_count": 31,
      "metadata": {
        "colab": {
          "base_uri": "https://localhost:8080/",
          "height": 118,
          "referenced_widgets": [
            "b08fe3ad33c74e13b80fe481fbbd0558",
            "e31321a9028b4cf99652a849cadbd87e",
            "07049044307946aeb86d2a48a48abbb8",
            "27360866d0f2483abcb08a014b2bf791",
            "23da939d19ab41fcbdf80efd237e6f06",
            "592c79ab0b3c48a3bf8b9690ed36bbbf",
            "a7db7f141e8145bc833d6378589c44fa",
            "b80fac1b810e415789a10175fb11b0bc",
            "48034a3fc19847edb7da8e11ee75774c",
            "25ffe3654bcd4610b60e97a08a66f377",
            "b17bca7181154a8ab0387fc37a2d4536"
          ]
        },
        "id": "DhlcfJ4lgYVI",
        "outputId": "0e3b7c06-fa9f-46f7-fe5a-64b15995fa38"
      },
      "outputs": [
        {
          "data": {
            "application/vnd.jupyter.widget-view+json": {
              "model_id": "c584002c539641148ab01e5f546c0220",
              "version_major": 2,
              "version_minor": 0
            },
            "text/plain": [
              "Evaluating:   0%|          | 0/90 [00:00<?, ?it/s]"
            ]
          },
          "metadata": {},
          "output_type": "display_data"
        }
      ],
      "source": [
        "import nest_asyncio\n",
        "\n",
        "nest_asyncio.apply()\n",
        "results = evaluate(response_dataset, metrics)"
      ]
    },
    {
      "cell_type": "code",
      "execution_count": 32,
      "metadata": {
        "colab": {
          "base_uri": "https://localhost:8080/"
        },
        "id": "UqPArpSrgwDD",
        "outputId": "70d6269a-1bad-4aad-fd2a-b0d5ccd82163"
      },
      "outputs": [
        {
          "data": {
            "text/plain": [
              "{'faithfulness': 0.5917, 'answer_relevancy': 0.8391, 'context_recall': 0.7037, 'context_precision': 0.6034, 'answer_correctness': 0.5623}"
            ]
          },
          "execution_count": 32,
          "metadata": {},
          "output_type": "execute_result"
        }
      ],
      "source": [
        "results"
      ]
    },
    {
      "cell_type": "code",
      "execution_count": 33,
      "metadata": {
        "colab": {
          "base_uri": "https://localhost:8080/",
          "height": 1000
        },
        "id": "2nsGzj8DhP9E",
        "outputId": "b5a5d00f-2bc7-475b-a774-c0e7ee000b82"
      },
      "outputs": [
        {
          "data": {
            "text/html": [
              "<div>\n",
              "<style scoped>\n",
              "    .dataframe tbody tr th:only-of-type {\n",
              "        vertical-align: middle;\n",
              "    }\n",
              "\n",
              "    .dataframe tbody tr th {\n",
              "        vertical-align: top;\n",
              "    }\n",
              "\n",
              "    .dataframe thead th {\n",
              "        text-align: right;\n",
              "    }\n",
              "</style>\n",
              "<table border=\"1\" class=\"dataframe\">\n",
              "  <thead>\n",
              "    <tr style=\"text-align: right;\">\n",
              "      <th></th>\n",
              "      <th>user_input</th>\n",
              "      <th>retrieved_contexts</th>\n",
              "      <th>response</th>\n",
              "      <th>reference</th>\n",
              "      <th>faithfulness</th>\n",
              "      <th>answer_relevancy</th>\n",
              "      <th>context_recall</th>\n",
              "      <th>context_precision</th>\n",
              "      <th>answer_correctness</th>\n",
              "    </tr>\n",
              "  </thead>\n",
              "  <tbody>\n",
              "    <tr>\n",
              "      <th>0</th>\n",
              "      <td>How did the speaker's bad cold affect their ex...</td>\n",
              "      <td>[ﬁfty-one then, and birthdays did not seem so ...</td>\n",
              "      <td>The speaker's bad cold affected their experien...</td>\n",
              "      <td>The speaker's bad cold affected their experien...</td>\n",
              "      <td>1.00</td>\n",
              "      <td>0.980049</td>\n",
              "      <td>1.000000</td>\n",
              "      <td>1.000000</td>\n",
              "      <td>0.890641</td>\n",
              "    </tr>\n",
              "    <tr>\n",
              "      <th>1</th>\n",
              "      <td>What happened to Pippin after he fell asleep i...</td>\n",
              "      <td>[Pippin, and he threw himself upon a bed and f...</td>\n",
              "      <td>Pippin fell asleep and dreamed pleasantly.</td>\n",
              "      <td>Pippin was lifted up and borne away to a bower...</td>\n",
              "      <td>1.00</td>\n",
              "      <td>0.935327</td>\n",
              "      <td>1.000000</td>\n",
              "      <td>0.500000</td>\n",
              "      <td>0.661209</td>\n",
              "    </tr>\n",
              "    <tr>\n",
              "      <th>2</th>\n",
              "      <td>What was Frodo often seen doing far from home ...</td>\n",
              "      <td>[falling asleep. The hobbits sat still before ...</td>\n",
              "      <td>Frodo was often seen walking and talking with ...</td>\n",
              "      <td>Frodo was often seen walking in the hills and ...</td>\n",
              "      <td>0.00</td>\n",
              "      <td>0.978512</td>\n",
              "      <td>0.000000</td>\n",
              "      <td>0.416667</td>\n",
              "      <td>0.455312</td>\n",
              "    </tr>\n",
              "    <tr>\n",
              "      <th>3</th>\n",
              "      <td>What is Bilbo's attitude towards going on the ...</td>\n",
              "      <td>[used it on their way to their mines in the Bl...</td>\n",
              "      <td>Bilbo's attitude towards going on the Road wit...</td>\n",
              "      <td>Bilbo's attitude towards going on the Road wit...</td>\n",
              "      <td>1.00</td>\n",
              "      <td>0.997583</td>\n",
              "      <td>1.000000</td>\n",
              "      <td>0.250000</td>\n",
              "      <td>0.846095</td>\n",
              "    </tr>\n",
              "    <tr>\n",
              "      <th>4</th>\n",
              "      <td>What is the significance of the Shire in the c...</td>\n",
              "      <td>[there the king had once had many farms, cornl...</td>\n",
              "      <td>The Shire is significant in the context of the...</td>\n",
              "      <td>The answer to given question is not present in...</td>\n",
              "      <td>0.75</td>\n",
              "      <td>0.989411</td>\n",
              "      <td>1.000000</td>\n",
              "      <td>1.000000</td>\n",
              "      <td>0.179858</td>\n",
              "    </tr>\n",
              "    <tr>\n",
              "      <th>5</th>\n",
              "      <td>Who did Frodo find sitting in the rushes by th...</td>\n",
              "      <td>[him.’ But at that moment Mr. Butterbur was ca...</td>\n",
              "      <td>Strider</td>\n",
              "      <td>The River-daughter, fair young Goldberry</td>\n",
              "      <td>0.00</td>\n",
              "      <td>0.795878</td>\n",
              "      <td>0.000000</td>\n",
              "      <td>0.000000</td>\n",
              "      <td>0.198854</td>\n",
              "    </tr>\n",
              "    <tr>\n",
              "      <th>6</th>\n",
              "      <td>What led to the increased interest in Hobbit h...</td>\n",
              "      <td>[western Hobbits fell in love with their new l...</td>\n",
              "      <td>The part played by the Hobbits in the great ev...</td>\n",
              "      <td>The part played by the Hobbits in the great ev...</td>\n",
              "      <td>1.00</td>\n",
              "      <td>0.862027</td>\n",
              "      <td>1.000000</td>\n",
              "      <td>0.638889</td>\n",
              "      <td>1.000000</td>\n",
              "    </tr>\n",
              "    <tr>\n",
              "      <th>7</th>\n",
              "      <td>Who did Bilbo address as \"My dear Bagginses an...</td>\n",
              "      <td>[point. No, I was not troubled about dear Bilb...</td>\n",
              "      <td>Bilbo addressed the hobbits as \"My dear Baggin...</td>\n",
              "      <td>Bilbo addressed the Bagginses and Boffins as \"...</td>\n",
              "      <td>1.00</td>\n",
              "      <td>0.896503</td>\n",
              "      <td>1.000000</td>\n",
              "      <td>1.000000</td>\n",
              "      <td>0.547381</td>\n",
              "    </tr>\n",
              "    <tr>\n",
              "      <th>8</th>\n",
              "      <td>Who can Frodo trust to stick by his side and k...</td>\n",
              "      <td>[Sam looked at him unhappily. ‘It all depends ...</td>\n",
              "      <td>Frodo can trust Merry and Sam to stick by his ...</td>\n",
              "      <td>Frodo can trust Sam, Merry, and the rest of hi...</td>\n",
              "      <td>1.00</td>\n",
              "      <td>0.999999</td>\n",
              "      <td>1.000000</td>\n",
              "      <td>0.805556</td>\n",
              "      <td>0.997077</td>\n",
              "    </tr>\n",
              "    <tr>\n",
              "      <th>9</th>\n",
              "      <td>How did courage play a role in Gandalf's decis...</td>\n",
              "      <td>[the incantation. Then a wild thought of escap...</td>\n",
              "      <td>I don't know.</td>\n",
              "      <td>The courage that had been awakened in Gandalf ...</td>\n",
              "      <td>0.00</td>\n",
              "      <td>0.000000</td>\n",
              "      <td>0.666667</td>\n",
              "      <td>0.833333</td>\n",
              "      <td>0.185671</td>\n",
              "    </tr>\n",
              "    <tr>\n",
              "      <th>10</th>\n",
              "      <td>How does Sam describe the age of the elves and...</td>\n",
              "      <td>[‘Then tell us some other tale of the old days...</td>\n",
              "      <td>Sam describes the age of the elves as \"quite d...</td>\n",
              "      <td>Sam describes the age of the elves as both old...</td>\n",
              "      <td>1.00</td>\n",
              "      <td>0.000000</td>\n",
              "      <td>1.000000</td>\n",
              "      <td>0.500000</td>\n",
              "      <td>0.807742</td>\n",
              "    </tr>\n",
              "    <tr>\n",
              "      <th>11</th>\n",
              "      <td>What did Bilbo reveal to Gollum, causing Gollu...</td>\n",
              "      <td>[answer, Gollum was bound by his promise. And ...</td>\n",
              "      <td>Bilbo revealed that he had found the marvellou...</td>\n",
              "      <td>Bilbo revealed his name to Gollum, causing Gol...</td>\n",
              "      <td>0.00</td>\n",
              "      <td>0.991632</td>\n",
              "      <td>0.000000</td>\n",
              "      <td>0.333333</td>\n",
              "      <td>0.537957</td>\n",
              "    </tr>\n",
              "    <tr>\n",
              "      <th>12</th>\n",
              "      <td>What did Frodo see in the fading light as he l...</td>\n",
              "      <td>[there was no moon. \\nThe sound of hoofs stopp...</td>\n",
              "      <td>Frodo saw something dark pass across the light...</td>\n",
              "      <td>Frodo saw something dark pass across the light...</td>\n",
              "      <td>1.00</td>\n",
              "      <td>0.913390</td>\n",
              "      <td>1.000000</td>\n",
              "      <td>1.000000</td>\n",
              "      <td>0.536912</td>\n",
              "    </tr>\n",
              "    <tr>\n",
              "      <th>13</th>\n",
              "      <td>What evidence supports the significance of the...</td>\n",
              "      <td>[long the Hobbits began to settle in ordered c...</td>\n",
              "      <td>The evidence supporting the significance of th...</td>\n",
              "      <td>It is clear, nonetheless, from these legends, ...</td>\n",
              "      <td>0.80</td>\n",
              "      <td>1.000000</td>\n",
              "      <td>0.000000</td>\n",
              "      <td>0.250000</td>\n",
              "      <td>0.402993</td>\n",
              "    </tr>\n",
              "    <tr>\n",
              "      <th>14</th>\n",
              "      <td>Why does Sam regret leaving Master Bombadil an...</td>\n",
              "      <td>[Frodo himself, after the ﬁrst shock, found th...</td>\n",
              "      <td>Sam regrets leaving Master Bombadil because he...</td>\n",
              "      <td>Sam regrets leaving Master Bombadil because he...</td>\n",
              "      <td>0.00</td>\n",
              "      <td>0.937282</td>\n",
              "      <td>0.000000</td>\n",
              "      <td>0.000000</td>\n",
              "      <td>0.424365</td>\n",
              "    </tr>\n",
              "    <tr>\n",
              "      <th>15</th>\n",
              "      <td>How did Frodo help restore camaraderie between...</td>\n",
              "      <td>[158 \\nTH E L ORD OF THE RI NGS \\nhelp to rene...</td>\n",
              "      <td>Frodo helped restore camaraderie between the S...</td>\n",
              "      <td>Frodo helped restore camaraderie between the S...</td>\n",
              "      <td>0.50</td>\n",
              "      <td>0.962986</td>\n",
              "      <td>1.000000</td>\n",
              "      <td>1.000000</td>\n",
              "      <td>0.672453</td>\n",
              "    </tr>\n",
              "    <tr>\n",
              "      <th>16</th>\n",
              "      <td>What happened to the Hobbits' languages before...</td>\n",
              "      <td>[had in their turn long before learned the art...</td>\n",
              "      <td>Before learning writing from the Elves, the Ho...</td>\n",
              "      <td>The answer to given question is not present in...</td>\n",
              "      <td>0.60</td>\n",
              "      <td>0.945534</td>\n",
              "      <td>1.000000</td>\n",
              "      <td>0.416667</td>\n",
              "      <td>0.175332</td>\n",
              "    </tr>\n",
              "    <tr>\n",
              "      <th>17</th>\n",
              "      <td>Where do most hobbits live in the Bree-land, c...</td>\n",
              "      <td>[friends of them. \\nThere were also many famil...</td>\n",
              "      <td>Most hobbits live in Staddle in the Bree-land,...</td>\n",
              "      <td>They live mostly in Staddle, though there are ...</td>\n",
              "      <td>0.00</td>\n",
              "      <td>0.918577</td>\n",
              "      <td>1.000000</td>\n",
              "      <td>0.916667</td>\n",
              "      <td>0.600769</td>\n",
              "    </tr>\n",
              "  </tbody>\n",
              "</table>\n",
              "</div>"
            ],
            "text/plain": [
              "                                           user_input  \\\n",
              "0   How did the speaker's bad cold affect their ex...   \n",
              "1   What happened to Pippin after he fell asleep i...   \n",
              "2   What was Frodo often seen doing far from home ...   \n",
              "3   What is Bilbo's attitude towards going on the ...   \n",
              "4   What is the significance of the Shire in the c...   \n",
              "5   Who did Frodo find sitting in the rushes by th...   \n",
              "6   What led to the increased interest in Hobbit h...   \n",
              "7   Who did Bilbo address as \"My dear Bagginses an...   \n",
              "8   Who can Frodo trust to stick by his side and k...   \n",
              "9   How did courage play a role in Gandalf's decis...   \n",
              "10  How does Sam describe the age of the elves and...   \n",
              "11  What did Bilbo reveal to Gollum, causing Gollu...   \n",
              "12  What did Frodo see in the fading light as he l...   \n",
              "13  What evidence supports the significance of the...   \n",
              "14  Why does Sam regret leaving Master Bombadil an...   \n",
              "15  How did Frodo help restore camaraderie between...   \n",
              "16  What happened to the Hobbits' languages before...   \n",
              "17  Where do most hobbits live in the Bree-land, c...   \n",
              "\n",
              "                                   retrieved_contexts  \\\n",
              "0   [ﬁfty-one then, and birthdays did not seem so ...   \n",
              "1   [Pippin, and he threw himself upon a bed and f...   \n",
              "2   [falling asleep. The hobbits sat still before ...   \n",
              "3   [used it on their way to their mines in the Bl...   \n",
              "4   [there the king had once had many farms, cornl...   \n",
              "5   [him.’ But at that moment Mr. Butterbur was ca...   \n",
              "6   [western Hobbits fell in love with their new l...   \n",
              "7   [point. No, I was not troubled about dear Bilb...   \n",
              "8   [Sam looked at him unhappily. ‘It all depends ...   \n",
              "9   [the incantation. Then a wild thought of escap...   \n",
              "10  [‘Then tell us some other tale of the old days...   \n",
              "11  [answer, Gollum was bound by his promise. And ...   \n",
              "12  [there was no moon. \\nThe sound of hoofs stopp...   \n",
              "13  [long the Hobbits began to settle in ordered c...   \n",
              "14  [Frodo himself, after the ﬁrst shock, found th...   \n",
              "15  [158 \\nTH E L ORD OF THE RI NGS \\nhelp to rene...   \n",
              "16  [had in their turn long before learned the art...   \n",
              "17  [friends of them. \\nThere were also many famil...   \n",
              "\n",
              "                                             response  \\\n",
              "0   The speaker's bad cold affected their experien...   \n",
              "1          Pippin fell asleep and dreamed pleasantly.   \n",
              "2   Frodo was often seen walking and talking with ...   \n",
              "3   Bilbo's attitude towards going on the Road wit...   \n",
              "4   The Shire is significant in the context of the...   \n",
              "5                                             Strider   \n",
              "6   The part played by the Hobbits in the great ev...   \n",
              "7   Bilbo addressed the hobbits as \"My dear Baggin...   \n",
              "8   Frodo can trust Merry and Sam to stick by his ...   \n",
              "9                                       I don't know.   \n",
              "10  Sam describes the age of the elves as \"quite d...   \n",
              "11  Bilbo revealed that he had found the marvellou...   \n",
              "12  Frodo saw something dark pass across the light...   \n",
              "13  The evidence supporting the significance of th...   \n",
              "14  Sam regrets leaving Master Bombadil because he...   \n",
              "15  Frodo helped restore camaraderie between the S...   \n",
              "16  Before learning writing from the Elves, the Ho...   \n",
              "17  Most hobbits live in Staddle in the Bree-land,...   \n",
              "\n",
              "                                            reference  faithfulness  \\\n",
              "0   The speaker's bad cold affected their experien...          1.00   \n",
              "1   Pippin was lifted up and borne away to a bower...          1.00   \n",
              "2   Frodo was often seen walking in the hills and ...          0.00   \n",
              "3   Bilbo's attitude towards going on the Road wit...          1.00   \n",
              "4   The answer to given question is not present in...          0.75   \n",
              "5            The River-daughter, fair young Goldberry          0.00   \n",
              "6   The part played by the Hobbits in the great ev...          1.00   \n",
              "7   Bilbo addressed the Bagginses and Boffins as \"...          1.00   \n",
              "8   Frodo can trust Sam, Merry, and the rest of hi...          1.00   \n",
              "9   The courage that had been awakened in Gandalf ...          0.00   \n",
              "10  Sam describes the age of the elves as both old...          1.00   \n",
              "11  Bilbo revealed his name to Gollum, causing Gol...          0.00   \n",
              "12  Frodo saw something dark pass across the light...          1.00   \n",
              "13  It is clear, nonetheless, from these legends, ...          0.80   \n",
              "14  Sam regrets leaving Master Bombadil because he...          0.00   \n",
              "15  Frodo helped restore camaraderie between the S...          0.50   \n",
              "16  The answer to given question is not present in...          0.60   \n",
              "17  They live mostly in Staddle, though there are ...          0.00   \n",
              "\n",
              "    answer_relevancy  context_recall  context_precision  answer_correctness  \n",
              "0           0.980049        1.000000           1.000000            0.890641  \n",
              "1           0.935327        1.000000           0.500000            0.661209  \n",
              "2           0.978512        0.000000           0.416667            0.455312  \n",
              "3           0.997583        1.000000           0.250000            0.846095  \n",
              "4           0.989411        1.000000           1.000000            0.179858  \n",
              "5           0.795878        0.000000           0.000000            0.198854  \n",
              "6           0.862027        1.000000           0.638889            1.000000  \n",
              "7           0.896503        1.000000           1.000000            0.547381  \n",
              "8           0.999999        1.000000           0.805556            0.997077  \n",
              "9           0.000000        0.666667           0.833333            0.185671  \n",
              "10          0.000000        1.000000           0.500000            0.807742  \n",
              "11          0.991632        0.000000           0.333333            0.537957  \n",
              "12          0.913390        1.000000           1.000000            0.536912  \n",
              "13          1.000000        0.000000           0.250000            0.402993  \n",
              "14          0.937282        0.000000           0.000000            0.424365  \n",
              "15          0.962986        1.000000           1.000000            0.672453  \n",
              "16          0.945534        1.000000           0.416667            0.175332  \n",
              "17          0.918577        1.000000           0.916667            0.600769  "
            ]
          },
          "execution_count": 33,
          "metadata": {},
          "output_type": "execute_result"
        }
      ],
      "source": [
        "results_df = results.to_pandas()\n",
        "results_df"
      ]
    },
    {
      "cell_type": "markdown",
      "metadata": {
        "id": "MWfiu_pLh3JL"
      },
      "source": [
        "## Task 3: Making Adjustments to our RAG Pipeline\n",
        "\n",
        "Now that we have established a baseline - we can see how any changes impact our pipeline's performance!\n",
        "\n",
        "Let's modify our retriever and see how that impacts our Ragas metrics!\n",
        "\n",
        "> NOTE: MultiQueryRetriever is expanded on [here](https://python.langchain.com/docs/modules/data_connection/retrievers/MultiQueryRetriever) but for now, the implementation is not important to our lesson!"
      ]
    },
    {
      "cell_type": "code",
      "execution_count": 34,
      "metadata": {
        "id": "nKIuM336isBL"
      },
      "outputs": [],
      "source": [
        "from langchain.retrievers import MultiQueryRetriever\n",
        "\n",
        "advanced_retriever = MultiQueryRetriever.from_llm(retriever=retriever, llm=primary_qa_llm)"
      ]
    },
    {
      "cell_type": "markdown",
      "metadata": {
        "id": "82rcj3L-i_c8"
      },
      "source": [
        "We'll also re-create our RAG pipeline using the abstractions that come packaged with LangChain v0.1.0!\n",
        "\n",
        "First, let's create a chain to \"stuff\" our documents into our context!"
      ]
    },
    {
      "cell_type": "code",
      "execution_count": 35,
      "metadata": {
        "id": "EfdCgTw7jC4i"
      },
      "outputs": [],
      "source": [
        "from langchain.chains.combine_documents import create_stuff_documents_chain\n",
        "\n",
        "document_chain = create_stuff_documents_chain(primary_qa_llm, retrieval_qa_prompt)"
      ]
    },
    {
      "cell_type": "markdown",
      "metadata": {
        "id": "ozYl5WdPnvLu"
      },
      "source": [
        "Next, we'll create the retrieval chain!"
      ]
    },
    {
      "cell_type": "code",
      "execution_count": 36,
      "metadata": {
        "id": "9AK7wHVnn0U3"
      },
      "outputs": [],
      "source": [
        "from langchain.chains import create_retrieval_chain\n",
        "\n",
        "retrieval_chain = create_retrieval_chain(advanced_retriever, document_chain)"
      ]
    },
    {
      "cell_type": "code",
      "execution_count": 37,
      "metadata": {
        "id": "cmKORMfMoCjL"
      },
      "outputs": [],
      "source": [
        "response = retrieval_chain.invoke({\"input\": \"Who is the bearer of the ring?\"})"
      ]
    },
    {
      "cell_type": "code",
      "execution_count": 38,
      "metadata": {
        "colab": {
          "base_uri": "https://localhost:8080/"
        },
        "id": "ICMsUWbWoOpf",
        "outputId": "f98fd6de-56ae-4a50-a5f6-f0bd6bbbb3dd"
      },
      "outputs": [
        {
          "name": "stdout",
          "output_type": "stream",
          "text": [
            "The bearer of the ring is Frodo.\n"
          ]
        }
      ],
      "source": [
        "print(response[\"answer\"])"
      ]
    },
    {
      "cell_type": "code",
      "execution_count": 39,
      "metadata": {
        "id": "5s8ZGasYoVi6"
      },
      "outputs": [],
      "source": [
        "response = retrieval_chain.invoke({\"input\": \"Who are the friends of Frodo?\"})"
      ]
    },
    {
      "cell_type": "code",
      "execution_count": 40,
      "metadata": {
        "colab": {
          "base_uri": "https://localhost:8080/"
        },
        "id": "ADNCdW4hoYT8",
        "outputId": "743dcf32-1fab-4f6a-d99c-6b32665ced71"
      },
      "outputs": [
        {
          "name": "stdout",
          "output_type": "stream",
          "text": [
            "Frodo's closest friends are Peregrin Took (Pippin) and Merry Brandybuck (Meriadoc). Other friends mentioned are Folco Boffin and Fredegar Bolger.\n"
          ]
        }
      ],
      "source": [
        "print(response[\"answer\"])"
      ]
    },
    {
      "cell_type": "markdown",
      "metadata": {},
      "source": [
        "<div style=\"background-color: #204B8E; color: white; padding: 10px; border-radius: 5px;\">\n",
        "\n",
        "#### 🏗️ Question #3:\n",
        "\n",
        "What does Multiquery Retriever do? Why did model respond better this time?\n",
        "\n",
        "</div>"
      ]
    },
    {
      "cell_type": "markdown",
      "metadata": {},
      "source": [
        "<div style=\"background-color: #204B8E; color: white; padding: 10px; border-radius: 5px;\">\n",
        "\n",
        "### Answer :\n",
        "\n",
        "* The MultiQueryRetriever automates the process of prompt tuning by utilizing an LLM and harnessing the power of diversity to generate multiple queries from various perspectives based on a user's input query. The model improved its response due to more relevant and complementary chunks of information being retrieved, providing the LLM with fuller context.\n",
        "</span>"
      ]
    },
    {
      "cell_type": "markdown",
      "metadata": {
        "id": "OxkU0HdpoaiE"
      },
      "source": [
        "Well, just from those responses this chain *feels* better - but lets see how it performs on our eval!\n",
        "\n",
        "Let's do the same process we did before to collect our pipeline's contexts and answers."
      ]
    },
    {
      "cell_type": "code",
      "execution_count": 41,
      "metadata": {
        "id": "kO8cWxn2oinT"
      },
      "outputs": [],
      "source": [
        "answers = []\n",
        "contexts = []\n",
        "\n",
        "for question in test_questions:\n",
        "  response = retrieval_chain.invoke({\"input\" : question})\n",
        "  answers.append(response[\"answer\"])\n",
        "  contexts.append([context.page_content for context in response[\"context\"]])"
      ]
    },
    {
      "cell_type": "markdown",
      "metadata": {
        "id": "tgagfhPUtM2j"
      },
      "source": [
        "Now we can convert this into a dataset, just like we did before."
      ]
    },
    {
      "cell_type": "code",
      "execution_count": 42,
      "metadata": {
        "id": "5FcllGeSovP8"
      },
      "outputs": [],
      "source": [
        "response_dataset_advanced_retrieval = Dataset.from_dict({\n",
        "    \"question\" : test_questions,\n",
        "    \"answer\" : answers,\n",
        "    \"contexts\" : contexts,\n",
        "    \"ground_truth\" : test_groundtruths\n",
        "})"
      ]
    },
    {
      "cell_type": "markdown",
      "metadata": {
        "id": "dELYabwktR2C"
      },
      "source": [
        "Let's evaluate on the same metrics we did for the first pipeline and see how it does!"
      ]
    },
    {
      "cell_type": "code",
      "execution_count": 43,
      "metadata": {
        "colab": {
          "base_uri": "https://localhost:8080/",
          "height": 49,
          "referenced_widgets": [
            "1979939c0b724700b91036413a201394",
            "13a6eac487424a6e8cba55fe80ab14b0",
            "5bfedf7db9f74de6acf4257dad1ab8fe",
            "6b332b97af494a609bd91cabef779e25",
            "b1a56f3ff2fc41d6b8fbcfe7cba6a767",
            "657bd409f8e74cbab4919ccfafb61b9a",
            "19ea7a76caca4e90b7a4250344c2b7aa",
            "9c59d4f3a89443f0b372af4243378a17",
            "3dd02b027e91427b9dd025f822550f22",
            "9a1589c2328144038a70d2f1ed936434",
            "978040aaab77415699ebd3f3ab43b7e5"
          ]
        },
        "id": "d7uHseWJo2TU",
        "outputId": "2a1672fc-a729-4abe-a87b-8ee5ea45a9be"
      },
      "outputs": [
        {
          "data": {
            "application/vnd.jupyter.widget-view+json": {
              "model_id": "f8edf81a48474095bbde32b7066ce643",
              "version_major": 2,
              "version_minor": 0
            },
            "text/plain": [
              "Evaluating:   0%|          | 0/90 [00:00<?, ?it/s]"
            ]
          },
          "metadata": {},
          "output_type": "display_data"
        }
      ],
      "source": [
        "advanced_retrieval_results = evaluate(response_dataset_advanced_retrieval, metrics)"
      ]
    },
    {
      "cell_type": "code",
      "execution_count": 44,
      "metadata": {
        "colab": {
          "base_uri": "https://localhost:8080/",
          "height": 1000
        },
        "id": "JsFd0uDd2n5E",
        "outputId": "10ae8d83-7cef-42ed-e0e6-0725ef2fcad4"
      },
      "outputs": [
        {
          "data": {
            "text/html": [
              "<div>\n",
              "<style scoped>\n",
              "    .dataframe tbody tr th:only-of-type {\n",
              "        vertical-align: middle;\n",
              "    }\n",
              "\n",
              "    .dataframe tbody tr th {\n",
              "        vertical-align: top;\n",
              "    }\n",
              "\n",
              "    .dataframe thead th {\n",
              "        text-align: right;\n",
              "    }\n",
              "</style>\n",
              "<table border=\"1\" class=\"dataframe\">\n",
              "  <thead>\n",
              "    <tr style=\"text-align: right;\">\n",
              "      <th></th>\n",
              "      <th>user_input</th>\n",
              "      <th>retrieved_contexts</th>\n",
              "      <th>response</th>\n",
              "      <th>reference</th>\n",
              "      <th>faithfulness</th>\n",
              "      <th>answer_relevancy</th>\n",
              "      <th>context_recall</th>\n",
              "      <th>context_precision</th>\n",
              "      <th>answer_correctness</th>\n",
              "    </tr>\n",
              "  </thead>\n",
              "  <tbody>\n",
              "    <tr>\n",
              "      <th>0</th>\n",
              "      <td>How did the speaker's bad cold affect their ex...</td>\n",
              "      <td>[they had felt it was impossible to refuse. Be...</td>\n",
              "      <td>The speaker's bad cold affected their experien...</td>\n",
              "      <td>The speaker's bad cold affected their experien...</td>\n",
              "      <td>1.000000</td>\n",
              "      <td>0.980072</td>\n",
              "      <td>1.000000</td>\n",
              "      <td>0.500000</td>\n",
              "      <td>0.747370</td>\n",
              "    </tr>\n",
              "    <tr>\n",
              "      <th>1</th>\n",
              "      <td>What happened to Pippin after he fell asleep i...</td>\n",
              "      <td>[Pippin, and he threw himself upon a bed and f...</td>\n",
              "      <td>Pippin fell asleep dreaming pleasantly, but a ...</td>\n",
              "      <td>Pippin was lifted up and borne away to a bower...</td>\n",
              "      <td>0.800000</td>\n",
              "      <td>0.949836</td>\n",
              "      <td>1.000000</td>\n",
              "      <td>0.500000</td>\n",
              "      <td>0.526391</td>\n",
              "    </tr>\n",
              "    <tr>\n",
              "      <th>2</th>\n",
              "      <td>What was Frodo often seen doing far from home ...</td>\n",
              "      <td>[away to a bower under the trees; there he was...</td>\n",
              "      <td>Frodo was often seen walking and talking with ...</td>\n",
              "      <td>Frodo was often seen walking in the hills and ...</td>\n",
              "      <td>0.500000</td>\n",
              "      <td>0.877174</td>\n",
              "      <td>1.000000</td>\n",
              "      <td>0.416667</td>\n",
              "      <td>0.535651</td>\n",
              "    </tr>\n",
              "    <tr>\n",
              "      <th>3</th>\n",
              "      <td>What is Bilbo's attitude towards going on the ...</td>\n",
              "      <td>[Frodo himself, after the ﬁrst shock, found th...</td>\n",
              "      <td>Bilbo seems to be excited and ready to go on t...</td>\n",
              "      <td>Bilbo's attitude towards going on the Road wit...</td>\n",
              "      <td>0.600000</td>\n",
              "      <td>0.968762</td>\n",
              "      <td>0.000000</td>\n",
              "      <td>0.000000</td>\n",
              "      <td>0.566873</td>\n",
              "    </tr>\n",
              "    <tr>\n",
              "      <th>4</th>\n",
              "      <td>What is the significance of the Shire in the c...</td>\n",
              "      <td>[there the king had once had many farms, cornl...</td>\n",
              "      <td>The Shire is a region where the Hobbits live a...</td>\n",
              "      <td>The answer to given question is not present in...</td>\n",
              "      <td>0.714286</td>\n",
              "      <td>0.975736</td>\n",
              "      <td>1.000000</td>\n",
              "      <td>0.966667</td>\n",
              "      <td>0.175587</td>\n",
              "    </tr>\n",
              "    <tr>\n",
              "      <th>5</th>\n",
              "      <td>Who did Frodo find sitting in the rushes by th...</td>\n",
              "      <td>[him.’ But at that moment Mr. Butterbur was ca...</td>\n",
              "      <td>Frodo found Sam sitting on the grass near the ...</td>\n",
              "      <td>The River-daughter, fair young Goldberry</td>\n",
              "      <td>1.000000</td>\n",
              "      <td>0.883318</td>\n",
              "      <td>0.000000</td>\n",
              "      <td>0.000000</td>\n",
              "      <td>0.195708</td>\n",
              "    </tr>\n",
              "    <tr>\n",
              "      <th>6</th>\n",
              "      <td>What led to the increased interest in Hobbit h...</td>\n",
              "      <td>[western Hobbits fell in love with their new l...</td>\n",
              "      <td>The increased interest in Hobbit history durin...</td>\n",
              "      <td>The part played by the Hobbits in the great ev...</td>\n",
              "      <td>0.500000</td>\n",
              "      <td>0.995804</td>\n",
              "      <td>0.000000</td>\n",
              "      <td>0.638889</td>\n",
              "      <td>0.633621</td>\n",
              "    </tr>\n",
              "    <tr>\n",
              "      <th>7</th>\n",
              "      <td>Who did Bilbo address as \"My dear Bagginses an...</td>\n",
              "      <td>[dants of the Old Took) who had as children be...</td>\n",
              "      <td>Bilbo addressed the hobbits as \"My dear Baggin...</td>\n",
              "      <td>Bilbo addressed the Bagginses and Boffins as \"...</td>\n",
              "      <td>1.000000</td>\n",
              "      <td>0.896291</td>\n",
              "      <td>1.000000</td>\n",
              "      <td>0.500000</td>\n",
              "      <td>0.545685</td>\n",
              "    </tr>\n",
              "    <tr>\n",
              "      <th>8</th>\n",
              "      <td>Who can Frodo trust to stick by his side and k...</td>\n",
              "      <td>[Sam looked at him unhappily. ‘It all depends ...</td>\n",
              "      <td>Frodo can trust Merry and Sam to stick by his ...</td>\n",
              "      <td>Frodo can trust Sam, Merry, and the rest of hi...</td>\n",
              "      <td>0.750000</td>\n",
              "      <td>0.980996</td>\n",
              "      <td>1.000000</td>\n",
              "      <td>0.887500</td>\n",
              "      <td>0.744855</td>\n",
              "    </tr>\n",
              "    <tr>\n",
              "      <th>9</th>\n",
              "      <td>How did courage play a role in Gandalf's decis...</td>\n",
              "      <td>[the incantation. Then a wild thought of escap...</td>\n",
              "      <td>Courage played a role in Frodo's decision, not...</td>\n",
              "      <td>The courage that had been awakened in Gandalf ...</td>\n",
              "      <td>0.833333</td>\n",
              "      <td>0.920506</td>\n",
              "      <td>0.666667</td>\n",
              "      <td>0.833333</td>\n",
              "      <td>0.343957</td>\n",
              "    </tr>\n",
              "    <tr>\n",
              "      <th>10</th>\n",
              "      <td>How does Sam describe the age of the elves and...</td>\n",
              "      <td>[‘Then tell us some other tale of the old days...</td>\n",
              "      <td>Sam describes the Elves as being from the old ...</td>\n",
              "      <td>Sam describes the age of the elves as both old...</td>\n",
              "      <td>1.000000</td>\n",
              "      <td>0.000000</td>\n",
              "      <td>1.000000</td>\n",
              "      <td>0.500000</td>\n",
              "      <td>0.878154</td>\n",
              "    </tr>\n",
              "    <tr>\n",
              "      <th>11</th>\n",
              "      <td>What did Bilbo reveal to Gollum, causing Gollu...</td>\n",
              "      <td>[answer, Gollum was bound by his promise. And ...</td>\n",
              "      <td>Bilbo very foolishly told Gollum his name, whi...</td>\n",
              "      <td>Bilbo revealed his name to Gollum, causing Gol...</td>\n",
              "      <td>0.000000</td>\n",
              "      <td>0.909536</td>\n",
              "      <td>0.000000</td>\n",
              "      <td>0.500000</td>\n",
              "      <td>0.737361</td>\n",
              "    </tr>\n",
              "    <tr>\n",
              "      <th>12</th>\n",
              "      <td>What did Frodo see in the fading light as he l...</td>\n",
              "      <td>[there was no moon. \\nThe sound of hoofs stopp...</td>\n",
              "      <td>Frodo saw a dark shadow pass across the lighte...</td>\n",
              "      <td>Frodo saw something dark pass across the light...</td>\n",
              "      <td>1.000000</td>\n",
              "      <td>0.913471</td>\n",
              "      <td>1.000000</td>\n",
              "      <td>1.000000</td>\n",
              "      <td>0.997577</td>\n",
              "    </tr>\n",
              "    <tr>\n",
              "      <th>13</th>\n",
              "      <td>What evidence supports the significance of the...</td>\n",
              "      <td>[Shire, and hobbit-building had long since bee...</td>\n",
              "      <td>The evidence supporting the significance of th...</td>\n",
              "      <td>It is clear, nonetheless, from these legends, ...</td>\n",
              "      <td>1.000000</td>\n",
              "      <td>0.999999</td>\n",
              "      <td>0.000000</td>\n",
              "      <td>0.200000</td>\n",
              "      <td>0.215559</td>\n",
              "    </tr>\n",
              "    <tr>\n",
              "      <th>14</th>\n",
              "      <td>Why does Sam regret leaving Master Bombadil an...</td>\n",
              "      <td>[Frodo himself, after the ﬁrst shock, found th...</td>\n",
              "      <td>Sam regrets leaving Master Bombadil because th...</td>\n",
              "      <td>Sam regrets leaving Master Bombadil because he...</td>\n",
              "      <td>0.875000</td>\n",
              "      <td>0.963489</td>\n",
              "      <td>0.666667</td>\n",
              "      <td>0.166667</td>\n",
              "      <td>0.490242</td>\n",
              "    </tr>\n",
              "    <tr>\n",
              "      <th>15</th>\n",
              "      <td>How did Frodo help restore camaraderie between...</td>\n",
              "      <td>[158 \\nTH E L ORD OF THE RI NGS \\nhelp to rene...</td>\n",
              "      <td>Frodo helped renew the old ties of friendship ...</td>\n",
              "      <td>Frodo helped restore camaraderie between the S...</td>\n",
              "      <td>0.500000</td>\n",
              "      <td>0.945029</td>\n",
              "      <td>1.000000</td>\n",
              "      <td>1.000000</td>\n",
              "      <td>0.745786</td>\n",
              "    </tr>\n",
              "    <tr>\n",
              "      <th>16</th>\n",
              "      <td>What happened to the Hobbits' languages before...</td>\n",
              "      <td>[long the Hobbits began to settle in ordered c...</td>\n",
              "      <td>Before learning writing from the Elves, the Ho...</td>\n",
              "      <td>The answer to given question is not present in...</td>\n",
              "      <td>0.750000</td>\n",
              "      <td>0.942133</td>\n",
              "      <td>1.000000</td>\n",
              "      <td>0.366667</td>\n",
              "      <td>0.175448</td>\n",
              "    </tr>\n",
              "    <tr>\n",
              "      <th>17</th>\n",
              "      <td>Where do most hobbits live in the Bree-land, c...</td>\n",
              "      <td>[friends of them. \\nThere were also many famil...</td>\n",
              "      <td>Most hobbits in the Bree-land live in Staddle,...</td>\n",
              "      <td>They live mostly in Staddle, though there are ...</td>\n",
              "      <td>0.500000</td>\n",
              "      <td>0.955889</td>\n",
              "      <td>1.000000</td>\n",
              "      <td>1.000000</td>\n",
              "      <td>0.868666</td>\n",
              "    </tr>\n",
              "  </tbody>\n",
              "</table>\n",
              "</div>"
            ],
            "text/plain": [
              "                                           user_input  \\\n",
              "0   How did the speaker's bad cold affect their ex...   \n",
              "1   What happened to Pippin after he fell asleep i...   \n",
              "2   What was Frodo often seen doing far from home ...   \n",
              "3   What is Bilbo's attitude towards going on the ...   \n",
              "4   What is the significance of the Shire in the c...   \n",
              "5   Who did Frodo find sitting in the rushes by th...   \n",
              "6   What led to the increased interest in Hobbit h...   \n",
              "7   Who did Bilbo address as \"My dear Bagginses an...   \n",
              "8   Who can Frodo trust to stick by his side and k...   \n",
              "9   How did courage play a role in Gandalf's decis...   \n",
              "10  How does Sam describe the age of the elves and...   \n",
              "11  What did Bilbo reveal to Gollum, causing Gollu...   \n",
              "12  What did Frodo see in the fading light as he l...   \n",
              "13  What evidence supports the significance of the...   \n",
              "14  Why does Sam regret leaving Master Bombadil an...   \n",
              "15  How did Frodo help restore camaraderie between...   \n",
              "16  What happened to the Hobbits' languages before...   \n",
              "17  Where do most hobbits live in the Bree-land, c...   \n",
              "\n",
              "                                   retrieved_contexts  \\\n",
              "0   [they had felt it was impossible to refuse. Be...   \n",
              "1   [Pippin, and he threw himself upon a bed and f...   \n",
              "2   [away to a bower under the trees; there he was...   \n",
              "3   [Frodo himself, after the ﬁrst shock, found th...   \n",
              "4   [there the king had once had many farms, cornl...   \n",
              "5   [him.’ But at that moment Mr. Butterbur was ca...   \n",
              "6   [western Hobbits fell in love with their new l...   \n",
              "7   [dants of the Old Took) who had as children be...   \n",
              "8   [Sam looked at him unhappily. ‘It all depends ...   \n",
              "9   [the incantation. Then a wild thought of escap...   \n",
              "10  [‘Then tell us some other tale of the old days...   \n",
              "11  [answer, Gollum was bound by his promise. And ...   \n",
              "12  [there was no moon. \\nThe sound of hoofs stopp...   \n",
              "13  [Shire, and hobbit-building had long since bee...   \n",
              "14  [Frodo himself, after the ﬁrst shock, found th...   \n",
              "15  [158 \\nTH E L ORD OF THE RI NGS \\nhelp to rene...   \n",
              "16  [long the Hobbits began to settle in ordered c...   \n",
              "17  [friends of them. \\nThere were also many famil...   \n",
              "\n",
              "                                             response  \\\n",
              "0   The speaker's bad cold affected their experien...   \n",
              "1   Pippin fell asleep dreaming pleasantly, but a ...   \n",
              "2   Frodo was often seen walking and talking with ...   \n",
              "3   Bilbo seems to be excited and ready to go on t...   \n",
              "4   The Shire is a region where the Hobbits live a...   \n",
              "5   Frodo found Sam sitting on the grass near the ...   \n",
              "6   The increased interest in Hobbit history durin...   \n",
              "7   Bilbo addressed the hobbits as \"My dear Baggin...   \n",
              "8   Frodo can trust Merry and Sam to stick by his ...   \n",
              "9   Courage played a role in Frodo's decision, not...   \n",
              "10  Sam describes the Elves as being from the old ...   \n",
              "11  Bilbo very foolishly told Gollum his name, whi...   \n",
              "12  Frodo saw a dark shadow pass across the lighte...   \n",
              "13  The evidence supporting the significance of th...   \n",
              "14  Sam regrets leaving Master Bombadil because th...   \n",
              "15  Frodo helped renew the old ties of friendship ...   \n",
              "16  Before learning writing from the Elves, the Ho...   \n",
              "17  Most hobbits in the Bree-land live in Staddle,...   \n",
              "\n",
              "                                            reference  faithfulness  \\\n",
              "0   The speaker's bad cold affected their experien...      1.000000   \n",
              "1   Pippin was lifted up and borne away to a bower...      0.800000   \n",
              "2   Frodo was often seen walking in the hills and ...      0.500000   \n",
              "3   Bilbo's attitude towards going on the Road wit...      0.600000   \n",
              "4   The answer to given question is not present in...      0.714286   \n",
              "5            The River-daughter, fair young Goldberry      1.000000   \n",
              "6   The part played by the Hobbits in the great ev...      0.500000   \n",
              "7   Bilbo addressed the Bagginses and Boffins as \"...      1.000000   \n",
              "8   Frodo can trust Sam, Merry, and the rest of hi...      0.750000   \n",
              "9   The courage that had been awakened in Gandalf ...      0.833333   \n",
              "10  Sam describes the age of the elves as both old...      1.000000   \n",
              "11  Bilbo revealed his name to Gollum, causing Gol...      0.000000   \n",
              "12  Frodo saw something dark pass across the light...      1.000000   \n",
              "13  It is clear, nonetheless, from these legends, ...      1.000000   \n",
              "14  Sam regrets leaving Master Bombadil because he...      0.875000   \n",
              "15  Frodo helped restore camaraderie between the S...      0.500000   \n",
              "16  The answer to given question is not present in...      0.750000   \n",
              "17  They live mostly in Staddle, though there are ...      0.500000   \n",
              "\n",
              "    answer_relevancy  context_recall  context_precision  answer_correctness  \n",
              "0           0.980072        1.000000           0.500000            0.747370  \n",
              "1           0.949836        1.000000           0.500000            0.526391  \n",
              "2           0.877174        1.000000           0.416667            0.535651  \n",
              "3           0.968762        0.000000           0.000000            0.566873  \n",
              "4           0.975736        1.000000           0.966667            0.175587  \n",
              "5           0.883318        0.000000           0.000000            0.195708  \n",
              "6           0.995804        0.000000           0.638889            0.633621  \n",
              "7           0.896291        1.000000           0.500000            0.545685  \n",
              "8           0.980996        1.000000           0.887500            0.744855  \n",
              "9           0.920506        0.666667           0.833333            0.343957  \n",
              "10          0.000000        1.000000           0.500000            0.878154  \n",
              "11          0.909536        0.000000           0.500000            0.737361  \n",
              "12          0.913471        1.000000           1.000000            0.997577  \n",
              "13          0.999999        0.000000           0.200000            0.215559  \n",
              "14          0.963489        0.666667           0.166667            0.490242  \n",
              "15          0.945029        1.000000           1.000000            0.745786  \n",
              "16          0.942133        1.000000           0.366667            0.175448  \n",
              "17          0.955889        1.000000           1.000000            0.868666  "
            ]
          },
          "execution_count": 44,
          "metadata": {},
          "output_type": "execute_result"
        }
      ],
      "source": [
        "advanced_retrieval_results_df = advanced_retrieval_results.to_pandas()\n",
        "advanced_retrieval_results_df"
      ]
    },
    {
      "cell_type": "markdown",
      "metadata": {
        "id": "J0hzqq5VtZ2a"
      },
      "source": [
        "## Task 4: Evaluating our Adjusted Pipeline Against Our Baseline\n",
        "\n",
        "Now we can compare our results and see what directional changes occured!\n",
        "\n",
        "Let's refresh with our initial metrics."
      ]
    },
    {
      "cell_type": "code",
      "execution_count": 45,
      "metadata": {
        "colab": {
          "base_uri": "https://localhost:8080/"
        },
        "id": "_WWGRaF5qx3V",
        "outputId": "23e476d6-dc67-40ad-d20a-2f4ea5dcd012"
      },
      "outputs": [
        {
          "data": {
            "text/plain": [
              "{'faithfulness': 0.5917, 'answer_relevancy': 0.8391, 'context_recall': 0.7037, 'context_precision': 0.6034, 'answer_correctness': 0.5623}"
            ]
          },
          "execution_count": 45,
          "metadata": {},
          "output_type": "execute_result"
        }
      ],
      "source": [
        "results"
      ]
    },
    {
      "cell_type": "markdown",
      "metadata": {
        "id": "oFv_yAeotmFs"
      },
      "source": [
        "And see how our advanced retrieval modified our chain!"
      ]
    },
    {
      "cell_type": "code",
      "execution_count": 46,
      "metadata": {
        "colab": {
          "base_uri": "https://localhost:8080/"
        },
        "id": "rpV11dxJo7xa",
        "outputId": "409ba84e-9fac-4670-ee84-57a578c73539"
      },
      "outputs": [
        {
          "data": {
            "text/plain": [
              "{'faithfulness': 0.7401, 'answer_relevancy': 0.8921, 'context_recall': 0.6852, 'context_precision': 0.5542, 'answer_correctness': 0.5625}"
            ]
          },
          "execution_count": 46,
          "metadata": {},
          "output_type": "execute_result"
        }
      ],
      "source": [
        "advanced_retrieval_results"
      ]
    },
    {
      "cell_type": "markdown",
      "metadata": {},
      "source": [
        "<div style=\"background-color: #204B8E; color: white; padding: 10px; border-radius: 5px;\">\n",
        "\n",
        "#### 🏗️ Question #4:\n",
        "\n",
        "Compare the difference between the standard RAG with Multiquery Retriever?\n",
        "\n",
        "</div>"
      ]
    },
    {
      "cell_type": "markdown",
      "metadata": {},
      "source": [
        "<div style=\"background-color: #204B8E; color: white; padding: 10px; border-radius: 5px;\">\n",
        "\n",
        "### Answers :\n",
        "\n",
        "* For standard RAG, it runs a single semantic search with the user’s query and returns top-k chunks. While this method is faster and less expensive, it may overlook relevant passages due to differences in wording or vocabulary. In contrast, MultiQueryRetriever uses an LLM to generate multiple queries from different perspectives for a given user input query. For each query, it retrieves a set of relevant documents and takes the unique union across all queries to get a larger set of potentially relevant documents. As a result, the MultiQueryRetriever can overcome some limitations associated with distance-based retrieval, providing a richer array of results that enhances recall and context diversity, thereby improving overall coverage.\n",
        "</span>"
      ]
    }
  ],
  "metadata": {
    "colab": {
      "provenance": []
    },
    "kernelspec": {
      "display_name": "04-producton-rag",
      "language": "python",
      "name": "python3"
    },
    "language_info": {
      "codemirror_mode": {
        "name": "ipython",
        "version": 3
      },
      "file_extension": ".py",
      "mimetype": "text/x-python",
      "name": "python",
      "nbconvert_exporter": "python",
      "pygments_lexer": "ipython3",
      "version": "3.12.3"
    },
    "widgets": {
      "application/vnd.jupyter.widget-state+json": {
        "04fb2aabb5164e63a01ef7de283e369b": {
          "model_module": "@jupyter-widgets/controls",
          "model_module_version": "1.5.0",
          "model_name": "DescriptionStyleModel",
          "state": {
            "_model_module": "@jupyter-widgets/controls",
            "_model_module_version": "1.5.0",
            "_model_name": "DescriptionStyleModel",
            "_view_count": null,
            "_view_module": "@jupyter-widgets/base",
            "_view_module_version": "1.2.0",
            "_view_name": "StyleView",
            "description_width": ""
          }
        },
        "07049044307946aeb86d2a48a48abbb8": {
          "model_module": "@jupyter-widgets/controls",
          "model_module_version": "1.5.0",
          "model_name": "FloatProgressModel",
          "state": {
            "_dom_classes": [],
            "_model_module": "@jupyter-widgets/controls",
            "_model_module_version": "1.5.0",
            "_model_name": "FloatProgressModel",
            "_view_count": null,
            "_view_module": "@jupyter-widgets/controls",
            "_view_module_version": "1.5.0",
            "_view_name": "ProgressView",
            "bar_style": "success",
            "description": "",
            "description_tooltip": null,
            "layout": "IPY_MODEL_b80fac1b810e415789a10175fb11b0bc",
            "max": 90,
            "min": 0,
            "orientation": "horizontal",
            "style": "IPY_MODEL_48034a3fc19847edb7da8e11ee75774c",
            "value": 90
          }
        },
        "13a6eac487424a6e8cba55fe80ab14b0": {
          "model_module": "@jupyter-widgets/controls",
          "model_module_version": "1.5.0",
          "model_name": "HTMLModel",
          "state": {
            "_dom_classes": [],
            "_model_module": "@jupyter-widgets/controls",
            "_model_module_version": "1.5.0",
            "_model_name": "HTMLModel",
            "_view_count": null,
            "_view_module": "@jupyter-widgets/controls",
            "_view_module_version": "1.5.0",
            "_view_name": "HTMLView",
            "description": "",
            "description_tooltip": null,
            "layout": "IPY_MODEL_657bd409f8e74cbab4919ccfafb61b9a",
            "placeholder": "​",
            "style": "IPY_MODEL_19ea7a76caca4e90b7a4250344c2b7aa",
            "value": "Evaluating: 100%"
          }
        },
        "14c415af32d54784871d892d13338148": {
          "model_module": "@jupyter-widgets/base",
          "model_module_version": "1.2.0",
          "model_name": "LayoutModel",
          "state": {
            "_model_module": "@jupyter-widgets/base",
            "_model_module_version": "1.2.0",
            "_model_name": "LayoutModel",
            "_view_count": null,
            "_view_module": "@jupyter-widgets/base",
            "_view_module_version": "1.2.0",
            "_view_name": "LayoutView",
            "align_content": null,
            "align_items": null,
            "align_self": null,
            "border": null,
            "bottom": null,
            "display": null,
            "flex": null,
            "flex_flow": null,
            "grid_area": null,
            "grid_auto_columns": null,
            "grid_auto_flow": null,
            "grid_auto_rows": null,
            "grid_column": null,
            "grid_gap": null,
            "grid_row": null,
            "grid_template_areas": null,
            "grid_template_columns": null,
            "grid_template_rows": null,
            "height": null,
            "justify_content": null,
            "justify_items": null,
            "left": null,
            "margin": null,
            "max_height": null,
            "max_width": null,
            "min_height": null,
            "min_width": null,
            "object_fit": null,
            "object_position": null,
            "order": null,
            "overflow": null,
            "overflow_x": null,
            "overflow_y": null,
            "padding": null,
            "right": null,
            "top": null,
            "visibility": "hidden",
            "width": null
          }
        },
        "1979939c0b724700b91036413a201394": {
          "model_module": "@jupyter-widgets/controls",
          "model_module_version": "1.5.0",
          "model_name": "HBoxModel",
          "state": {
            "_dom_classes": [],
            "_model_module": "@jupyter-widgets/controls",
            "_model_module_version": "1.5.0",
            "_model_name": "HBoxModel",
            "_view_count": null,
            "_view_module": "@jupyter-widgets/controls",
            "_view_module_version": "1.5.0",
            "_view_name": "HBoxView",
            "box_style": "",
            "children": [
              "IPY_MODEL_13a6eac487424a6e8cba55fe80ab14b0",
              "IPY_MODEL_5bfedf7db9f74de6acf4257dad1ab8fe",
              "IPY_MODEL_6b332b97af494a609bd91cabef779e25"
            ],
            "layout": "IPY_MODEL_b1a56f3ff2fc41d6b8fbcfe7cba6a767"
          }
        },
        "19ea7a76caca4e90b7a4250344c2b7aa": {
          "model_module": "@jupyter-widgets/controls",
          "model_module_version": "1.5.0",
          "model_name": "DescriptionStyleModel",
          "state": {
            "_model_module": "@jupyter-widgets/controls",
            "_model_module_version": "1.5.0",
            "_model_name": "DescriptionStyleModel",
            "_view_count": null,
            "_view_module": "@jupyter-widgets/base",
            "_view_module_version": "1.2.0",
            "_view_name": "StyleView",
            "description_width": ""
          }
        },
        "1a96adc24ab34300b3b68e46364f745b": {
          "model_module": "@jupyter-widgets/controls",
          "model_module_version": "1.5.0",
          "model_name": "ProgressStyleModel",
          "state": {
            "_model_module": "@jupyter-widgets/controls",
            "_model_module_version": "1.5.0",
            "_model_name": "ProgressStyleModel",
            "_view_count": null,
            "_view_module": "@jupyter-widgets/base",
            "_view_module_version": "1.2.0",
            "_view_name": "StyleView",
            "bar_color": null,
            "description_width": ""
          }
        },
        "21849ee7e76f45049eb59e5b1c0815c9": {
          "model_module": "@jupyter-widgets/controls",
          "model_module_version": "1.5.0",
          "model_name": "FloatProgressModel",
          "state": {
            "_dom_classes": [],
            "_model_module": "@jupyter-widgets/controls",
            "_model_module_version": "1.5.0",
            "_model_name": "FloatProgressModel",
            "_view_count": null,
            "_view_module": "@jupyter-widgets/controls",
            "_view_module_version": "1.5.0",
            "_view_name": "ProgressView",
            "bar_style": "success",
            "description": "",
            "description_tooltip": null,
            "layout": "IPY_MODEL_5215d48d2bf8433299f0dc26cc44f176",
            "max": 90,
            "min": 0,
            "orientation": "horizontal",
            "style": "IPY_MODEL_a7bde4cf0c9249989a22480bfa09ef01",
            "value": 90
          }
        },
        "23da939d19ab41fcbdf80efd237e6f06": {
          "model_module": "@jupyter-widgets/base",
          "model_module_version": "1.2.0",
          "model_name": "LayoutModel",
          "state": {
            "_model_module": "@jupyter-widgets/base",
            "_model_module_version": "1.2.0",
            "_model_name": "LayoutModel",
            "_view_count": null,
            "_view_module": "@jupyter-widgets/base",
            "_view_module_version": "1.2.0",
            "_view_name": "LayoutView",
            "align_content": null,
            "align_items": null,
            "align_self": null,
            "border": null,
            "bottom": null,
            "display": null,
            "flex": null,
            "flex_flow": null,
            "grid_area": null,
            "grid_auto_columns": null,
            "grid_auto_flow": null,
            "grid_auto_rows": null,
            "grid_column": null,
            "grid_gap": null,
            "grid_row": null,
            "grid_template_areas": null,
            "grid_template_columns": null,
            "grid_template_rows": null,
            "height": null,
            "justify_content": null,
            "justify_items": null,
            "left": null,
            "margin": null,
            "max_height": null,
            "max_width": null,
            "min_height": null,
            "min_width": null,
            "object_fit": null,
            "object_position": null,
            "order": null,
            "overflow": null,
            "overflow_x": null,
            "overflow_y": null,
            "padding": null,
            "right": null,
            "top": null,
            "visibility": null,
            "width": null
          }
        },
        "25ffe3654bcd4610b60e97a08a66f377": {
          "model_module": "@jupyter-widgets/base",
          "model_module_version": "1.2.0",
          "model_name": "LayoutModel",
          "state": {
            "_model_module": "@jupyter-widgets/base",
            "_model_module_version": "1.2.0",
            "_model_name": "LayoutModel",
            "_view_count": null,
            "_view_module": "@jupyter-widgets/base",
            "_view_module_version": "1.2.0",
            "_view_name": "LayoutView",
            "align_content": null,
            "align_items": null,
            "align_self": null,
            "border": null,
            "bottom": null,
            "display": null,
            "flex": null,
            "flex_flow": null,
            "grid_area": null,
            "grid_auto_columns": null,
            "grid_auto_flow": null,
            "grid_auto_rows": null,
            "grid_column": null,
            "grid_gap": null,
            "grid_row": null,
            "grid_template_areas": null,
            "grid_template_columns": null,
            "grid_template_rows": null,
            "height": null,
            "justify_content": null,
            "justify_items": null,
            "left": null,
            "margin": null,
            "max_height": null,
            "max_width": null,
            "min_height": null,
            "min_width": null,
            "object_fit": null,
            "object_position": null,
            "order": null,
            "overflow": null,
            "overflow_x": null,
            "overflow_y": null,
            "padding": null,
            "right": null,
            "top": null,
            "visibility": null,
            "width": null
          }
        },
        "27360866d0f2483abcb08a014b2bf791": {
          "model_module": "@jupyter-widgets/controls",
          "model_module_version": "1.5.0",
          "model_name": "HTMLModel",
          "state": {
            "_dom_classes": [],
            "_model_module": "@jupyter-widgets/controls",
            "_model_module_version": "1.5.0",
            "_model_name": "HTMLModel",
            "_view_count": null,
            "_view_module": "@jupyter-widgets/controls",
            "_view_module_version": "1.5.0",
            "_view_name": "HTMLView",
            "description": "",
            "description_tooltip": null,
            "layout": "IPY_MODEL_25ffe3654bcd4610b60e97a08a66f377",
            "placeholder": "​",
            "style": "IPY_MODEL_b17bca7181154a8ab0387fc37a2d4536",
            "value": " 90/90 [00:36&lt;00:00,  1.25it/s]"
          }
        },
        "291e0a01c3e84b839d7ab677d9f8a074": {
          "model_module": "@jupyter-widgets/controls",
          "model_module_version": "1.5.0",
          "model_name": "FloatProgressModel",
          "state": {
            "_dom_classes": [],
            "_model_module": "@jupyter-widgets/controls",
            "_model_module_version": "1.5.0",
            "_model_name": "FloatProgressModel",
            "_view_count": null,
            "_view_module": "@jupyter-widgets/controls",
            "_view_module_version": "1.5.0",
            "_view_name": "ProgressView",
            "bar_style": "",
            "description": "",
            "description_tooltip": null,
            "layout": "IPY_MODEL_7729ca7a0a914d7187c2a4bad2180a65",
            "max": 112,
            "min": 0,
            "orientation": "horizontal",
            "style": "IPY_MODEL_3eff985efa934fe8a2db753fc7e5d8dc",
            "value": 112
          }
        },
        "2cb51bc6e5d74683b17f8b9190fbf33a": {
          "model_module": "@jupyter-widgets/base",
          "model_module_version": "1.2.0",
          "model_name": "LayoutModel",
          "state": {
            "_model_module": "@jupyter-widgets/base",
            "_model_module_version": "1.2.0",
            "_model_name": "LayoutModel",
            "_view_count": null,
            "_view_module": "@jupyter-widgets/base",
            "_view_module_version": "1.2.0",
            "_view_name": "LayoutView",
            "align_content": null,
            "align_items": null,
            "align_self": null,
            "border": null,
            "bottom": null,
            "display": null,
            "flex": null,
            "flex_flow": null,
            "grid_area": null,
            "grid_auto_columns": null,
            "grid_auto_flow": null,
            "grid_auto_rows": null,
            "grid_column": null,
            "grid_gap": null,
            "grid_row": null,
            "grid_template_areas": null,
            "grid_template_columns": null,
            "grid_template_rows": null,
            "height": null,
            "justify_content": null,
            "justify_items": null,
            "left": null,
            "margin": null,
            "max_height": null,
            "max_width": null,
            "min_height": null,
            "min_width": null,
            "object_fit": null,
            "object_position": null,
            "order": null,
            "overflow": null,
            "overflow_x": null,
            "overflow_y": null,
            "padding": null,
            "right": null,
            "top": null,
            "visibility": null,
            "width": null
          }
        },
        "3dd02b027e91427b9dd025f822550f22": {
          "model_module": "@jupyter-widgets/controls",
          "model_module_version": "1.5.0",
          "model_name": "ProgressStyleModel",
          "state": {
            "_model_module": "@jupyter-widgets/controls",
            "_model_module_version": "1.5.0",
            "_model_name": "ProgressStyleModel",
            "_view_count": null,
            "_view_module": "@jupyter-widgets/base",
            "_view_module_version": "1.2.0",
            "_view_name": "StyleView",
            "bar_color": null,
            "description_width": ""
          }
        },
        "3eff985efa934fe8a2db753fc7e5d8dc": {
          "model_module": "@jupyter-widgets/controls",
          "model_module_version": "1.5.0",
          "model_name": "ProgressStyleModel",
          "state": {
            "_model_module": "@jupyter-widgets/controls",
            "_model_module_version": "1.5.0",
            "_model_name": "ProgressStyleModel",
            "_view_count": null,
            "_view_module": "@jupyter-widgets/base",
            "_view_module_version": "1.2.0",
            "_view_name": "StyleView",
            "bar_color": null,
            "description_width": ""
          }
        },
        "48034a3fc19847edb7da8e11ee75774c": {
          "model_module": "@jupyter-widgets/controls",
          "model_module_version": "1.5.0",
          "model_name": "ProgressStyleModel",
          "state": {
            "_model_module": "@jupyter-widgets/controls",
            "_model_module_version": "1.5.0",
            "_model_name": "ProgressStyleModel",
            "_view_count": null,
            "_view_module": "@jupyter-widgets/base",
            "_view_module_version": "1.2.0",
            "_view_name": "StyleView",
            "bar_color": null,
            "description_width": ""
          }
        },
        "5215d48d2bf8433299f0dc26cc44f176": {
          "model_module": "@jupyter-widgets/base",
          "model_module_version": "1.2.0",
          "model_name": "LayoutModel",
          "state": {
            "_model_module": "@jupyter-widgets/base",
            "_model_module_version": "1.2.0",
            "_model_name": "LayoutModel",
            "_view_count": null,
            "_view_module": "@jupyter-widgets/base",
            "_view_module_version": "1.2.0",
            "_view_name": "LayoutView",
            "align_content": null,
            "align_items": null,
            "align_self": null,
            "border": null,
            "bottom": null,
            "display": null,
            "flex": null,
            "flex_flow": null,
            "grid_area": null,
            "grid_auto_columns": null,
            "grid_auto_flow": null,
            "grid_auto_rows": null,
            "grid_column": null,
            "grid_gap": null,
            "grid_row": null,
            "grid_template_areas": null,
            "grid_template_columns": null,
            "grid_template_rows": null,
            "height": null,
            "justify_content": null,
            "justify_items": null,
            "left": null,
            "margin": null,
            "max_height": null,
            "max_width": null,
            "min_height": null,
            "min_width": null,
            "object_fit": null,
            "object_position": null,
            "order": null,
            "overflow": null,
            "overflow_x": null,
            "overflow_y": null,
            "padding": null,
            "right": null,
            "top": null,
            "visibility": null,
            "width": null
          }
        },
        "592c79ab0b3c48a3bf8b9690ed36bbbf": {
          "model_module": "@jupyter-widgets/base",
          "model_module_version": "1.2.0",
          "model_name": "LayoutModel",
          "state": {
            "_model_module": "@jupyter-widgets/base",
            "_model_module_version": "1.2.0",
            "_model_name": "LayoutModel",
            "_view_count": null,
            "_view_module": "@jupyter-widgets/base",
            "_view_module_version": "1.2.0",
            "_view_name": "LayoutView",
            "align_content": null,
            "align_items": null,
            "align_self": null,
            "border": null,
            "bottom": null,
            "display": null,
            "flex": null,
            "flex_flow": null,
            "grid_area": null,
            "grid_auto_columns": null,
            "grid_auto_flow": null,
            "grid_auto_rows": null,
            "grid_column": null,
            "grid_gap": null,
            "grid_row": null,
            "grid_template_areas": null,
            "grid_template_columns": null,
            "grid_template_rows": null,
            "height": null,
            "justify_content": null,
            "justify_items": null,
            "left": null,
            "margin": null,
            "max_height": null,
            "max_width": null,
            "min_height": null,
            "min_width": null,
            "object_fit": null,
            "object_position": null,
            "order": null,
            "overflow": null,
            "overflow_x": null,
            "overflow_y": null,
            "padding": null,
            "right": null,
            "top": null,
            "visibility": null,
            "width": null
          }
        },
        "5bfedf7db9f74de6acf4257dad1ab8fe": {
          "model_module": "@jupyter-widgets/controls",
          "model_module_version": "1.5.0",
          "model_name": "FloatProgressModel",
          "state": {
            "_dom_classes": [],
            "_model_module": "@jupyter-widgets/controls",
            "_model_module_version": "1.5.0",
            "_model_name": "FloatProgressModel",
            "_view_count": null,
            "_view_module": "@jupyter-widgets/controls",
            "_view_module_version": "1.5.0",
            "_view_name": "ProgressView",
            "bar_style": "success",
            "description": "",
            "description_tooltip": null,
            "layout": "IPY_MODEL_9c59d4f3a89443f0b372af4243378a17",
            "max": 90,
            "min": 0,
            "orientation": "horizontal",
            "style": "IPY_MODEL_3dd02b027e91427b9dd025f822550f22",
            "value": 90
          }
        },
        "6362de259fc64994a9f677002ebfb09b": {
          "model_module": "@jupyter-widgets/controls",
          "model_module_version": "1.5.0",
          "model_name": "DescriptionStyleModel",
          "state": {
            "_model_module": "@jupyter-widgets/controls",
            "_model_module_version": "1.5.0",
            "_model_name": "DescriptionStyleModel",
            "_view_count": null,
            "_view_module": "@jupyter-widgets/base",
            "_view_module_version": "1.2.0",
            "_view_name": "StyleView",
            "description_width": ""
          }
        },
        "6564a4092ce04ff5a63a2618158fcc3a": {
          "model_module": "@jupyter-widgets/base",
          "model_module_version": "1.2.0",
          "model_name": "LayoutModel",
          "state": {
            "_model_module": "@jupyter-widgets/base",
            "_model_module_version": "1.2.0",
            "_model_name": "LayoutModel",
            "_view_count": null,
            "_view_module": "@jupyter-widgets/base",
            "_view_module_version": "1.2.0",
            "_view_name": "LayoutView",
            "align_content": null,
            "align_items": null,
            "align_self": null,
            "border": null,
            "bottom": null,
            "display": null,
            "flex": null,
            "flex_flow": null,
            "grid_area": null,
            "grid_auto_columns": null,
            "grid_auto_flow": null,
            "grid_auto_rows": null,
            "grid_column": null,
            "grid_gap": null,
            "grid_row": null,
            "grid_template_areas": null,
            "grid_template_columns": null,
            "grid_template_rows": null,
            "height": null,
            "justify_content": null,
            "justify_items": null,
            "left": null,
            "margin": null,
            "max_height": null,
            "max_width": null,
            "min_height": null,
            "min_width": null,
            "object_fit": null,
            "object_position": null,
            "order": null,
            "overflow": null,
            "overflow_x": null,
            "overflow_y": null,
            "padding": null,
            "right": null,
            "top": null,
            "visibility": null,
            "width": null
          }
        },
        "657bd409f8e74cbab4919ccfafb61b9a": {
          "model_module": "@jupyter-widgets/base",
          "model_module_version": "1.2.0",
          "model_name": "LayoutModel",
          "state": {
            "_model_module": "@jupyter-widgets/base",
            "_model_module_version": "1.2.0",
            "_model_name": "LayoutModel",
            "_view_count": null,
            "_view_module": "@jupyter-widgets/base",
            "_view_module_version": "1.2.0",
            "_view_name": "LayoutView",
            "align_content": null,
            "align_items": null,
            "align_self": null,
            "border": null,
            "bottom": null,
            "display": null,
            "flex": null,
            "flex_flow": null,
            "grid_area": null,
            "grid_auto_columns": null,
            "grid_auto_flow": null,
            "grid_auto_rows": null,
            "grid_column": null,
            "grid_gap": null,
            "grid_row": null,
            "grid_template_areas": null,
            "grid_template_columns": null,
            "grid_template_rows": null,
            "height": null,
            "justify_content": null,
            "justify_items": null,
            "left": null,
            "margin": null,
            "max_height": null,
            "max_width": null,
            "min_height": null,
            "min_width": null,
            "object_fit": null,
            "object_position": null,
            "order": null,
            "overflow": null,
            "overflow_x": null,
            "overflow_y": null,
            "padding": null,
            "right": null,
            "top": null,
            "visibility": null,
            "width": null
          }
        },
        "6b332b97af494a609bd91cabef779e25": {
          "model_module": "@jupyter-widgets/controls",
          "model_module_version": "1.5.0",
          "model_name": "HTMLModel",
          "state": {
            "_dom_classes": [],
            "_model_module": "@jupyter-widgets/controls",
            "_model_module_version": "1.5.0",
            "_model_name": "HTMLModel",
            "_view_count": null,
            "_view_module": "@jupyter-widgets/controls",
            "_view_module_version": "1.5.0",
            "_view_name": "HTMLView",
            "description": "",
            "description_tooltip": null,
            "layout": "IPY_MODEL_9a1589c2328144038a70d2f1ed936434",
            "placeholder": "​",
            "style": "IPY_MODEL_978040aaab77415699ebd3f3ab43b7e5",
            "value": " 90/90 [00:43&lt;00:00,  1.08it/s]"
          }
        },
        "768bed58cacf44178ac16912e14ac434": {
          "model_module": "@jupyter-widgets/base",
          "model_module_version": "1.2.0",
          "model_name": "LayoutModel",
          "state": {
            "_model_module": "@jupyter-widgets/base",
            "_model_module_version": "1.2.0",
            "_model_name": "LayoutModel",
            "_view_count": null,
            "_view_module": "@jupyter-widgets/base",
            "_view_module_version": "1.2.0",
            "_view_name": "LayoutView",
            "align_content": null,
            "align_items": null,
            "align_self": null,
            "border": null,
            "bottom": null,
            "display": null,
            "flex": null,
            "flex_flow": null,
            "grid_area": null,
            "grid_auto_columns": null,
            "grid_auto_flow": null,
            "grid_auto_rows": null,
            "grid_column": null,
            "grid_gap": null,
            "grid_row": null,
            "grid_template_areas": null,
            "grid_template_columns": null,
            "grid_template_rows": null,
            "height": null,
            "justify_content": null,
            "justify_items": null,
            "left": null,
            "margin": null,
            "max_height": null,
            "max_width": null,
            "min_height": null,
            "min_width": null,
            "object_fit": null,
            "object_position": null,
            "order": null,
            "overflow": null,
            "overflow_x": null,
            "overflow_y": null,
            "padding": null,
            "right": null,
            "top": null,
            "visibility": null,
            "width": null
          }
        },
        "7729ca7a0a914d7187c2a4bad2180a65": {
          "model_module": "@jupyter-widgets/base",
          "model_module_version": "1.2.0",
          "model_name": "LayoutModel",
          "state": {
            "_model_module": "@jupyter-widgets/base",
            "_model_module_version": "1.2.0",
            "_model_name": "LayoutModel",
            "_view_count": null,
            "_view_module": "@jupyter-widgets/base",
            "_view_module_version": "1.2.0",
            "_view_name": "LayoutView",
            "align_content": null,
            "align_items": null,
            "align_self": null,
            "border": null,
            "bottom": null,
            "display": null,
            "flex": null,
            "flex_flow": null,
            "grid_area": null,
            "grid_auto_columns": null,
            "grid_auto_flow": null,
            "grid_auto_rows": null,
            "grid_column": null,
            "grid_gap": null,
            "grid_row": null,
            "grid_template_areas": null,
            "grid_template_columns": null,
            "grid_template_rows": null,
            "height": null,
            "justify_content": null,
            "justify_items": null,
            "left": null,
            "margin": null,
            "max_height": null,
            "max_width": null,
            "min_height": null,
            "min_width": null,
            "object_fit": null,
            "object_position": null,
            "order": null,
            "overflow": null,
            "overflow_x": null,
            "overflow_y": null,
            "padding": null,
            "right": null,
            "top": null,
            "visibility": null,
            "width": null
          }
        },
        "892075b88eba4ec19f7d77cbab38572f": {
          "model_module": "@jupyter-widgets/controls",
          "model_module_version": "1.5.0",
          "model_name": "DescriptionStyleModel",
          "state": {
            "_model_module": "@jupyter-widgets/controls",
            "_model_module_version": "1.5.0",
            "_model_name": "DescriptionStyleModel",
            "_view_count": null,
            "_view_module": "@jupyter-widgets/base",
            "_view_module_version": "1.2.0",
            "_view_name": "StyleView",
            "description_width": ""
          }
        },
        "8b226a0c779a49a8b0efdfa4156afc31": {
          "model_module": "@jupyter-widgets/controls",
          "model_module_version": "1.5.0",
          "model_name": "FloatProgressModel",
          "state": {
            "_dom_classes": [],
            "_model_module": "@jupyter-widgets/controls",
            "_model_module_version": "1.5.0",
            "_model_name": "FloatProgressModel",
            "_view_count": null,
            "_view_module": "@jupyter-widgets/controls",
            "_view_module_version": "1.5.0",
            "_view_name": "ProgressView",
            "bar_style": "success",
            "description": "",
            "description_tooltip": null,
            "layout": "IPY_MODEL_ec0f5e8999004da8826646a0cd0d0a01",
            "max": 20,
            "min": 0,
            "orientation": "horizontal",
            "style": "IPY_MODEL_1a96adc24ab34300b3b68e46364f745b",
            "value": 20
          }
        },
        "8beec47b68314f0faea61929019e4f25": {
          "model_module": "@jupyter-widgets/controls",
          "model_module_version": "1.5.0",
          "model_name": "HBoxModel",
          "state": {
            "_dom_classes": [],
            "_model_module": "@jupyter-widgets/controls",
            "_model_module_version": "1.5.0",
            "_model_name": "HBoxModel",
            "_view_count": null,
            "_view_module": "@jupyter-widgets/controls",
            "_view_module_version": "1.5.0",
            "_view_name": "HBoxView",
            "box_style": "",
            "children": [
              "IPY_MODEL_f3edbc21d8084a7bb04b7bc0b5c1b689",
              "IPY_MODEL_21849ee7e76f45049eb59e5b1c0815c9",
              "IPY_MODEL_c783728b34ef4672bb290bf34c844567"
            ],
            "layout": "IPY_MODEL_cb78200dac4742149d0de05c0af0bd97"
          }
        },
        "90fe2a85593d4f2f83c5e1ea2303bb11": {
          "model_module": "@jupyter-widgets/base",
          "model_module_version": "1.2.0",
          "model_name": "LayoutModel",
          "state": {
            "_model_module": "@jupyter-widgets/base",
            "_model_module_version": "1.2.0",
            "_model_name": "LayoutModel",
            "_view_count": null,
            "_view_module": "@jupyter-widgets/base",
            "_view_module_version": "1.2.0",
            "_view_name": "LayoutView",
            "align_content": null,
            "align_items": null,
            "align_self": null,
            "border": null,
            "bottom": null,
            "display": null,
            "flex": null,
            "flex_flow": null,
            "grid_area": null,
            "grid_auto_columns": null,
            "grid_auto_flow": null,
            "grid_auto_rows": null,
            "grid_column": null,
            "grid_gap": null,
            "grid_row": null,
            "grid_template_areas": null,
            "grid_template_columns": null,
            "grid_template_rows": null,
            "height": null,
            "justify_content": null,
            "justify_items": null,
            "left": null,
            "margin": null,
            "max_height": null,
            "max_width": null,
            "min_height": null,
            "min_width": null,
            "object_fit": null,
            "object_position": null,
            "order": null,
            "overflow": null,
            "overflow_x": null,
            "overflow_y": null,
            "padding": null,
            "right": null,
            "top": null,
            "visibility": null,
            "width": null
          }
        },
        "96403d0bca064737ac89ee0e9f67e8b5": {
          "model_module": "@jupyter-widgets/controls",
          "model_module_version": "1.5.0",
          "model_name": "DescriptionStyleModel",
          "state": {
            "_model_module": "@jupyter-widgets/controls",
            "_model_module_version": "1.5.0",
            "_model_name": "DescriptionStyleModel",
            "_view_count": null,
            "_view_module": "@jupyter-widgets/base",
            "_view_module_version": "1.2.0",
            "_view_name": "StyleView",
            "description_width": ""
          }
        },
        "978040aaab77415699ebd3f3ab43b7e5": {
          "model_module": "@jupyter-widgets/controls",
          "model_module_version": "1.5.0",
          "model_name": "DescriptionStyleModel",
          "state": {
            "_model_module": "@jupyter-widgets/controls",
            "_model_module_version": "1.5.0",
            "_model_name": "DescriptionStyleModel",
            "_view_count": null,
            "_view_module": "@jupyter-widgets/base",
            "_view_module_version": "1.2.0",
            "_view_name": "StyleView",
            "description_width": ""
          }
        },
        "9a1589c2328144038a70d2f1ed936434": {
          "model_module": "@jupyter-widgets/base",
          "model_module_version": "1.2.0",
          "model_name": "LayoutModel",
          "state": {
            "_model_module": "@jupyter-widgets/base",
            "_model_module_version": "1.2.0",
            "_model_name": "LayoutModel",
            "_view_count": null,
            "_view_module": "@jupyter-widgets/base",
            "_view_module_version": "1.2.0",
            "_view_name": "LayoutView",
            "align_content": null,
            "align_items": null,
            "align_self": null,
            "border": null,
            "bottom": null,
            "display": null,
            "flex": null,
            "flex_flow": null,
            "grid_area": null,
            "grid_auto_columns": null,
            "grid_auto_flow": null,
            "grid_auto_rows": null,
            "grid_column": null,
            "grid_gap": null,
            "grid_row": null,
            "grid_template_areas": null,
            "grid_template_columns": null,
            "grid_template_rows": null,
            "height": null,
            "justify_content": null,
            "justify_items": null,
            "left": null,
            "margin": null,
            "max_height": null,
            "max_width": null,
            "min_height": null,
            "min_width": null,
            "object_fit": null,
            "object_position": null,
            "order": null,
            "overflow": null,
            "overflow_x": null,
            "overflow_y": null,
            "padding": null,
            "right": null,
            "top": null,
            "visibility": null,
            "width": null
          }
        },
        "9c59d4f3a89443f0b372af4243378a17": {
          "model_module": "@jupyter-widgets/base",
          "model_module_version": "1.2.0",
          "model_name": "LayoutModel",
          "state": {
            "_model_module": "@jupyter-widgets/base",
            "_model_module_version": "1.2.0",
            "_model_name": "LayoutModel",
            "_view_count": null,
            "_view_module": "@jupyter-widgets/base",
            "_view_module_version": "1.2.0",
            "_view_name": "LayoutView",
            "align_content": null,
            "align_items": null,
            "align_self": null,
            "border": null,
            "bottom": null,
            "display": null,
            "flex": null,
            "flex_flow": null,
            "grid_area": null,
            "grid_auto_columns": null,
            "grid_auto_flow": null,
            "grid_auto_rows": null,
            "grid_column": null,
            "grid_gap": null,
            "grid_row": null,
            "grid_template_areas": null,
            "grid_template_columns": null,
            "grid_template_rows": null,
            "height": null,
            "justify_content": null,
            "justify_items": null,
            "left": null,
            "margin": null,
            "max_height": null,
            "max_width": null,
            "min_height": null,
            "min_width": null,
            "object_fit": null,
            "object_position": null,
            "order": null,
            "overflow": null,
            "overflow_x": null,
            "overflow_y": null,
            "padding": null,
            "right": null,
            "top": null,
            "visibility": null,
            "width": null
          }
        },
        "a10a3efc00644613a610a54e9e0080a3": {
          "model_module": "@jupyter-widgets/controls",
          "model_module_version": "1.5.0",
          "model_name": "HBoxModel",
          "state": {
            "_dom_classes": [],
            "_model_module": "@jupyter-widgets/controls",
            "_model_module_version": "1.5.0",
            "_model_name": "HBoxModel",
            "_view_count": null,
            "_view_module": "@jupyter-widgets/controls",
            "_view_module_version": "1.5.0",
            "_view_name": "HBoxView",
            "box_style": "",
            "children": [
              "IPY_MODEL_cdf3ff710cbb4ab09f59a2f317e2162d",
              "IPY_MODEL_8b226a0c779a49a8b0efdfa4156afc31",
              "IPY_MODEL_e8cc5f2707724b9faf50e1b86e6f1890"
            ],
            "layout": "IPY_MODEL_a32d9af8b8444a8e80f7473dbe791d3c"
          }
        },
        "a32d9af8b8444a8e80f7473dbe791d3c": {
          "model_module": "@jupyter-widgets/base",
          "model_module_version": "1.2.0",
          "model_name": "LayoutModel",
          "state": {
            "_model_module": "@jupyter-widgets/base",
            "_model_module_version": "1.2.0",
            "_model_name": "LayoutModel",
            "_view_count": null,
            "_view_module": "@jupyter-widgets/base",
            "_view_module_version": "1.2.0",
            "_view_name": "LayoutView",
            "align_content": null,
            "align_items": null,
            "align_self": null,
            "border": null,
            "bottom": null,
            "display": null,
            "flex": null,
            "flex_flow": null,
            "grid_area": null,
            "grid_auto_columns": null,
            "grid_auto_flow": null,
            "grid_auto_rows": null,
            "grid_column": null,
            "grid_gap": null,
            "grid_row": null,
            "grid_template_areas": null,
            "grid_template_columns": null,
            "grid_template_rows": null,
            "height": null,
            "justify_content": null,
            "justify_items": null,
            "left": null,
            "margin": null,
            "max_height": null,
            "max_width": null,
            "min_height": null,
            "min_width": null,
            "object_fit": null,
            "object_position": null,
            "order": null,
            "overflow": null,
            "overflow_x": null,
            "overflow_y": null,
            "padding": null,
            "right": null,
            "top": null,
            "visibility": null,
            "width": null
          }
        },
        "a3cc61e2fc854b26ad2ba3b6a68add50": {
          "model_module": "@jupyter-widgets/base",
          "model_module_version": "1.2.0",
          "model_name": "LayoutModel",
          "state": {
            "_model_module": "@jupyter-widgets/base",
            "_model_module_version": "1.2.0",
            "_model_name": "LayoutModel",
            "_view_count": null,
            "_view_module": "@jupyter-widgets/base",
            "_view_module_version": "1.2.0",
            "_view_name": "LayoutView",
            "align_content": null,
            "align_items": null,
            "align_self": null,
            "border": null,
            "bottom": null,
            "display": null,
            "flex": null,
            "flex_flow": null,
            "grid_area": null,
            "grid_auto_columns": null,
            "grid_auto_flow": null,
            "grid_auto_rows": null,
            "grid_column": null,
            "grid_gap": null,
            "grid_row": null,
            "grid_template_areas": null,
            "grid_template_columns": null,
            "grid_template_rows": null,
            "height": null,
            "justify_content": null,
            "justify_items": null,
            "left": null,
            "margin": null,
            "max_height": null,
            "max_width": null,
            "min_height": null,
            "min_width": null,
            "object_fit": null,
            "object_position": null,
            "order": null,
            "overflow": null,
            "overflow_x": null,
            "overflow_y": null,
            "padding": null,
            "right": null,
            "top": null,
            "visibility": null,
            "width": null
          }
        },
        "a7bde4cf0c9249989a22480bfa09ef01": {
          "model_module": "@jupyter-widgets/controls",
          "model_module_version": "1.5.0",
          "model_name": "ProgressStyleModel",
          "state": {
            "_model_module": "@jupyter-widgets/controls",
            "_model_module_version": "1.5.0",
            "_model_name": "ProgressStyleModel",
            "_view_count": null,
            "_view_module": "@jupyter-widgets/base",
            "_view_module_version": "1.2.0",
            "_view_name": "StyleView",
            "bar_color": null,
            "description_width": ""
          }
        },
        "a7db7f141e8145bc833d6378589c44fa": {
          "model_module": "@jupyter-widgets/controls",
          "model_module_version": "1.5.0",
          "model_name": "DescriptionStyleModel",
          "state": {
            "_model_module": "@jupyter-widgets/controls",
            "_model_module_version": "1.5.0",
            "_model_name": "DescriptionStyleModel",
            "_view_count": null,
            "_view_module": "@jupyter-widgets/base",
            "_view_module_version": "1.2.0",
            "_view_name": "StyleView",
            "description_width": ""
          }
        },
        "aa309f56fa494d768e9dfd87ef1412aa": {
          "model_module": "@jupyter-widgets/controls",
          "model_module_version": "1.5.0",
          "model_name": "DescriptionStyleModel",
          "state": {
            "_model_module": "@jupyter-widgets/controls",
            "_model_module_version": "1.5.0",
            "_model_name": "DescriptionStyleModel",
            "_view_count": null,
            "_view_module": "@jupyter-widgets/base",
            "_view_module_version": "1.2.0",
            "_view_name": "StyleView",
            "description_width": ""
          }
        },
        "adb9ad0e77e344fca71e4d7f2fd79c66": {
          "model_module": "@jupyter-widgets/controls",
          "model_module_version": "1.5.0",
          "model_name": "HTMLModel",
          "state": {
            "_dom_classes": [],
            "_model_module": "@jupyter-widgets/controls",
            "_model_module_version": "1.5.0",
            "_model_name": "HTMLModel",
            "_view_count": null,
            "_view_module": "@jupyter-widgets/controls",
            "_view_module_version": "1.5.0",
            "_view_name": "HTMLView",
            "description": "",
            "description_tooltip": null,
            "layout": "IPY_MODEL_a3cc61e2fc854b26ad2ba3b6a68add50",
            "placeholder": "​",
            "style": "IPY_MODEL_d1c95ea15ab5400db377fd3d54fd7e21",
            "value": " 109/112 [00:03&lt;00:00, 29.63it/s]"
          }
        },
        "b08fe3ad33c74e13b80fe481fbbd0558": {
          "model_module": "@jupyter-widgets/controls",
          "model_module_version": "1.5.0",
          "model_name": "HBoxModel",
          "state": {
            "_dom_classes": [],
            "_model_module": "@jupyter-widgets/controls",
            "_model_module_version": "1.5.0",
            "_model_name": "HBoxModel",
            "_view_count": null,
            "_view_module": "@jupyter-widgets/controls",
            "_view_module_version": "1.5.0",
            "_view_name": "HBoxView",
            "box_style": "",
            "children": [
              "IPY_MODEL_e31321a9028b4cf99652a849cadbd87e",
              "IPY_MODEL_07049044307946aeb86d2a48a48abbb8",
              "IPY_MODEL_27360866d0f2483abcb08a014b2bf791"
            ],
            "layout": "IPY_MODEL_23da939d19ab41fcbdf80efd237e6f06"
          }
        },
        "b17bca7181154a8ab0387fc37a2d4536": {
          "model_module": "@jupyter-widgets/controls",
          "model_module_version": "1.5.0",
          "model_name": "DescriptionStyleModel",
          "state": {
            "_model_module": "@jupyter-widgets/controls",
            "_model_module_version": "1.5.0",
            "_model_name": "DescriptionStyleModel",
            "_view_count": null,
            "_view_module": "@jupyter-widgets/base",
            "_view_module_version": "1.2.0",
            "_view_name": "StyleView",
            "description_width": ""
          }
        },
        "b1a56f3ff2fc41d6b8fbcfe7cba6a767": {
          "model_module": "@jupyter-widgets/base",
          "model_module_version": "1.2.0",
          "model_name": "LayoutModel",
          "state": {
            "_model_module": "@jupyter-widgets/base",
            "_model_module_version": "1.2.0",
            "_model_name": "LayoutModel",
            "_view_count": null,
            "_view_module": "@jupyter-widgets/base",
            "_view_module_version": "1.2.0",
            "_view_name": "LayoutView",
            "align_content": null,
            "align_items": null,
            "align_self": null,
            "border": null,
            "bottom": null,
            "display": null,
            "flex": null,
            "flex_flow": null,
            "grid_area": null,
            "grid_auto_columns": null,
            "grid_auto_flow": null,
            "grid_auto_rows": null,
            "grid_column": null,
            "grid_gap": null,
            "grid_row": null,
            "grid_template_areas": null,
            "grid_template_columns": null,
            "grid_template_rows": null,
            "height": null,
            "justify_content": null,
            "justify_items": null,
            "left": null,
            "margin": null,
            "max_height": null,
            "max_width": null,
            "min_height": null,
            "min_width": null,
            "object_fit": null,
            "object_position": null,
            "order": null,
            "overflow": null,
            "overflow_x": null,
            "overflow_y": null,
            "padding": null,
            "right": null,
            "top": null,
            "visibility": null,
            "width": null
          }
        },
        "b80fac1b810e415789a10175fb11b0bc": {
          "model_module": "@jupyter-widgets/base",
          "model_module_version": "1.2.0",
          "model_name": "LayoutModel",
          "state": {
            "_model_module": "@jupyter-widgets/base",
            "_model_module_version": "1.2.0",
            "_model_name": "LayoutModel",
            "_view_count": null,
            "_view_module": "@jupyter-widgets/base",
            "_view_module_version": "1.2.0",
            "_view_name": "LayoutView",
            "align_content": null,
            "align_items": null,
            "align_self": null,
            "border": null,
            "bottom": null,
            "display": null,
            "flex": null,
            "flex_flow": null,
            "grid_area": null,
            "grid_auto_columns": null,
            "grid_auto_flow": null,
            "grid_auto_rows": null,
            "grid_column": null,
            "grid_gap": null,
            "grid_row": null,
            "grid_template_areas": null,
            "grid_template_columns": null,
            "grid_template_rows": null,
            "height": null,
            "justify_content": null,
            "justify_items": null,
            "left": null,
            "margin": null,
            "max_height": null,
            "max_width": null,
            "min_height": null,
            "min_width": null,
            "object_fit": null,
            "object_position": null,
            "order": null,
            "overflow": null,
            "overflow_x": null,
            "overflow_y": null,
            "padding": null,
            "right": null,
            "top": null,
            "visibility": null,
            "width": null
          }
        },
        "c173b14963844b90b45bb7306fd72484": {
          "model_module": "@jupyter-widgets/controls",
          "model_module_version": "1.5.0",
          "model_name": "HBoxModel",
          "state": {
            "_dom_classes": [],
            "_model_module": "@jupyter-widgets/controls",
            "_model_module_version": "1.5.0",
            "_model_name": "HBoxModel",
            "_view_count": null,
            "_view_module": "@jupyter-widgets/controls",
            "_view_module_version": "1.5.0",
            "_view_name": "HBoxView",
            "box_style": "",
            "children": [
              "IPY_MODEL_e74934ca95db49e088e978f3014591d3",
              "IPY_MODEL_291e0a01c3e84b839d7ab677d9f8a074",
              "IPY_MODEL_adb9ad0e77e344fca71e4d7f2fd79c66"
            ],
            "layout": "IPY_MODEL_14c415af32d54784871d892d13338148"
          }
        },
        "c783728b34ef4672bb290bf34c844567": {
          "model_module": "@jupyter-widgets/controls",
          "model_module_version": "1.5.0",
          "model_name": "HTMLModel",
          "state": {
            "_dom_classes": [],
            "_model_module": "@jupyter-widgets/controls",
            "_model_module_version": "1.5.0",
            "_model_name": "HTMLModel",
            "_view_count": null,
            "_view_module": "@jupyter-widgets/controls",
            "_view_module_version": "1.5.0",
            "_view_name": "HTMLView",
            "description": "",
            "description_tooltip": null,
            "layout": "IPY_MODEL_fa6cf55d6e3742c98a5fd9b1a8e939b3",
            "placeholder": "​",
            "style": "IPY_MODEL_6362de259fc64994a9f677002ebfb09b",
            "value": " 90/90 [00:52&lt;00:00,  1.29s/it]"
          }
        },
        "cb78200dac4742149d0de05c0af0bd97": {
          "model_module": "@jupyter-widgets/base",
          "model_module_version": "1.2.0",
          "model_name": "LayoutModel",
          "state": {
            "_model_module": "@jupyter-widgets/base",
            "_model_module_version": "1.2.0",
            "_model_name": "LayoutModel",
            "_view_count": null,
            "_view_module": "@jupyter-widgets/base",
            "_view_module_version": "1.2.0",
            "_view_name": "LayoutView",
            "align_content": null,
            "align_items": null,
            "align_self": null,
            "border": null,
            "bottom": null,
            "display": null,
            "flex": null,
            "flex_flow": null,
            "grid_area": null,
            "grid_auto_columns": null,
            "grid_auto_flow": null,
            "grid_auto_rows": null,
            "grid_column": null,
            "grid_gap": null,
            "grid_row": null,
            "grid_template_areas": null,
            "grid_template_columns": null,
            "grid_template_rows": null,
            "height": null,
            "justify_content": null,
            "justify_items": null,
            "left": null,
            "margin": null,
            "max_height": null,
            "max_width": null,
            "min_height": null,
            "min_width": null,
            "object_fit": null,
            "object_position": null,
            "order": null,
            "overflow": null,
            "overflow_x": null,
            "overflow_y": null,
            "padding": null,
            "right": null,
            "top": null,
            "visibility": null,
            "width": null
          }
        },
        "cdf3ff710cbb4ab09f59a2f317e2162d": {
          "model_module": "@jupyter-widgets/controls",
          "model_module_version": "1.5.0",
          "model_name": "HTMLModel",
          "state": {
            "_dom_classes": [],
            "_model_module": "@jupyter-widgets/controls",
            "_model_module_version": "1.5.0",
            "_model_name": "HTMLModel",
            "_view_count": null,
            "_view_module": "@jupyter-widgets/controls",
            "_view_module_version": "1.5.0",
            "_view_name": "HTMLView",
            "description": "",
            "description_tooltip": null,
            "layout": "IPY_MODEL_6564a4092ce04ff5a63a2618158fcc3a",
            "placeholder": "​",
            "style": "IPY_MODEL_892075b88eba4ec19f7d77cbab38572f",
            "value": "Generating: 100%"
          }
        },
        "d1c95ea15ab5400db377fd3d54fd7e21": {
          "model_module": "@jupyter-widgets/controls",
          "model_module_version": "1.5.0",
          "model_name": "DescriptionStyleModel",
          "state": {
            "_model_module": "@jupyter-widgets/controls",
            "_model_module_version": "1.5.0",
            "_model_name": "DescriptionStyleModel",
            "_view_count": null,
            "_view_module": "@jupyter-widgets/base",
            "_view_module_version": "1.2.0",
            "_view_name": "StyleView",
            "description_width": ""
          }
        },
        "e31321a9028b4cf99652a849cadbd87e": {
          "model_module": "@jupyter-widgets/controls",
          "model_module_version": "1.5.0",
          "model_name": "HTMLModel",
          "state": {
            "_dom_classes": [],
            "_model_module": "@jupyter-widgets/controls",
            "_model_module_version": "1.5.0",
            "_model_name": "HTMLModel",
            "_view_count": null,
            "_view_module": "@jupyter-widgets/controls",
            "_view_module_version": "1.5.0",
            "_view_name": "HTMLView",
            "description": "",
            "description_tooltip": null,
            "layout": "IPY_MODEL_592c79ab0b3c48a3bf8b9690ed36bbbf",
            "placeholder": "​",
            "style": "IPY_MODEL_a7db7f141e8145bc833d6378589c44fa",
            "value": "Evaluating: 100%"
          }
        },
        "e74934ca95db49e088e978f3014591d3": {
          "model_module": "@jupyter-widgets/controls",
          "model_module_version": "1.5.0",
          "model_name": "HTMLModel",
          "state": {
            "_dom_classes": [],
            "_model_module": "@jupyter-widgets/controls",
            "_model_module_version": "1.5.0",
            "_model_name": "HTMLModel",
            "_view_count": null,
            "_view_module": "@jupyter-widgets/controls",
            "_view_module_version": "1.5.0",
            "_view_name": "HTMLView",
            "description": "",
            "description_tooltip": null,
            "layout": "IPY_MODEL_90fe2a85593d4f2f83c5e1ea2303bb11",
            "placeholder": "​",
            "style": "IPY_MODEL_04fb2aabb5164e63a01ef7de283e369b",
            "value": "embedding nodes:  97%"
          }
        },
        "e8cc5f2707724b9faf50e1b86e6f1890": {
          "model_module": "@jupyter-widgets/controls",
          "model_module_version": "1.5.0",
          "model_name": "HTMLModel",
          "state": {
            "_dom_classes": [],
            "_model_module": "@jupyter-widgets/controls",
            "_model_module_version": "1.5.0",
            "_model_name": "HTMLModel",
            "_view_count": null,
            "_view_module": "@jupyter-widgets/controls",
            "_view_module_version": "1.5.0",
            "_view_name": "HTMLView",
            "description": "",
            "description_tooltip": null,
            "layout": "IPY_MODEL_768bed58cacf44178ac16912e14ac434",
            "placeholder": "​",
            "style": "IPY_MODEL_aa309f56fa494d768e9dfd87ef1412aa",
            "value": " 20/20 [02:43&lt;00:00, 15.76s/it]"
          }
        },
        "ec0f5e8999004da8826646a0cd0d0a01": {
          "model_module": "@jupyter-widgets/base",
          "model_module_version": "1.2.0",
          "model_name": "LayoutModel",
          "state": {
            "_model_module": "@jupyter-widgets/base",
            "_model_module_version": "1.2.0",
            "_model_name": "LayoutModel",
            "_view_count": null,
            "_view_module": "@jupyter-widgets/base",
            "_view_module_version": "1.2.0",
            "_view_name": "LayoutView",
            "align_content": null,
            "align_items": null,
            "align_self": null,
            "border": null,
            "bottom": null,
            "display": null,
            "flex": null,
            "flex_flow": null,
            "grid_area": null,
            "grid_auto_columns": null,
            "grid_auto_flow": null,
            "grid_auto_rows": null,
            "grid_column": null,
            "grid_gap": null,
            "grid_row": null,
            "grid_template_areas": null,
            "grid_template_columns": null,
            "grid_template_rows": null,
            "height": null,
            "justify_content": null,
            "justify_items": null,
            "left": null,
            "margin": null,
            "max_height": null,
            "max_width": null,
            "min_height": null,
            "min_width": null,
            "object_fit": null,
            "object_position": null,
            "order": null,
            "overflow": null,
            "overflow_x": null,
            "overflow_y": null,
            "padding": null,
            "right": null,
            "top": null,
            "visibility": null,
            "width": null
          }
        },
        "f3edbc21d8084a7bb04b7bc0b5c1b689": {
          "model_module": "@jupyter-widgets/controls",
          "model_module_version": "1.5.0",
          "model_name": "HTMLModel",
          "state": {
            "_dom_classes": [],
            "_model_module": "@jupyter-widgets/controls",
            "_model_module_version": "1.5.0",
            "_model_name": "HTMLModel",
            "_view_count": null,
            "_view_module": "@jupyter-widgets/controls",
            "_view_module_version": "1.5.0",
            "_view_name": "HTMLView",
            "description": "",
            "description_tooltip": null,
            "layout": "IPY_MODEL_2cb51bc6e5d74683b17f8b9190fbf33a",
            "placeholder": "​",
            "style": "IPY_MODEL_96403d0bca064737ac89ee0e9f67e8b5",
            "value": "Evaluating: 100%"
          }
        },
        "fa6cf55d6e3742c98a5fd9b1a8e939b3": {
          "model_module": "@jupyter-widgets/base",
          "model_module_version": "1.2.0",
          "model_name": "LayoutModel",
          "state": {
            "_model_module": "@jupyter-widgets/base",
            "_model_module_version": "1.2.0",
            "_model_name": "LayoutModel",
            "_view_count": null,
            "_view_module": "@jupyter-widgets/base",
            "_view_module_version": "1.2.0",
            "_view_name": "LayoutView",
            "align_content": null,
            "align_items": null,
            "align_self": null,
            "border": null,
            "bottom": null,
            "display": null,
            "flex": null,
            "flex_flow": null,
            "grid_area": null,
            "grid_auto_columns": null,
            "grid_auto_flow": null,
            "grid_auto_rows": null,
            "grid_column": null,
            "grid_gap": null,
            "grid_row": null,
            "grid_template_areas": null,
            "grid_template_columns": null,
            "grid_template_rows": null,
            "height": null,
            "justify_content": null,
            "justify_items": null,
            "left": null,
            "margin": null,
            "max_height": null,
            "max_width": null,
            "min_height": null,
            "min_width": null,
            "object_fit": null,
            "object_position": null,
            "order": null,
            "overflow": null,
            "overflow_x": null,
            "overflow_y": null,
            "padding": null,
            "right": null,
            "top": null,
            "visibility": null,
            "width": null
          }
        }
      }
    }
  },
  "nbformat": 4,
  "nbformat_minor": 0
}
